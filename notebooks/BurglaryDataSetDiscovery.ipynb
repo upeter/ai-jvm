{
 "cells": [
  {
   "metadata": {},
   "cell_type": "markdown",
   "source": "### Define imports"
  },
  {
   "cell_type": "code",
   "metadata": {
    "collapsed": true
   },
   "source": [
    "%useLatestDescriptors\n",
    "%use dataframe\n",
    "%trackExecution generated\n",
    "%use lib-ext(0.11.0-398)\n"
   ],
   "outputs": [],
   "execution_count": null
  },
  {
   "metadata": {},
   "cell_type": "markdown",
   "source": "### Explore the data"
  },
  {
   "metadata": {},
   "cell_type": "code",
   "source": [
    "import org.jetbrains.kotlinx.dataframe.codeGen.generateCode\n",
    "import org.jetbrains.kotlinx.dataframe.codeGen.generateInterfaces\n",
    "\n",
    "val df = DataFrame.read(\"/Users/urs/development/github/ai/kotlin-ai-talk/langchain4j/src/main/resources/dataset/burglaries.csv\", delimiter = ';')\n",
    "df.head()"
   ],
   "outputs": [],
   "execution_count": null
  },
  {
   "metadata": {},
   "cell_type": "code",
   "source": "df.describe()",
   "outputs": [],
   "execution_count": null
  },
  {
   "metadata": {},
   "cell_type": "code",
   "source": "df.select(\"ArrestMade\", \"Datetime\", \"AmountStolen\", \"CategoryOfItemsStolen\", \"TypeOfProperty\")",
   "outputs": [],
   "execution_count": null
  },
  {
   "metadata": {},
   "cell_type": "code",
   "source": "df.generateCode()\n",
   "outputs": [],
   "execution_count": null
  },
  {
   "metadata": {},
   "cell_type": "code",
   "source": [
    "//\n",
    "df.select { ArrestMade and Datetime and AmountStolen and CategoryOfItemsStolen and TypeOfProperty}\n"
   ],
   "outputs": [],
   "execution_count": null
  },
  {
   "metadata": {},
   "cell_type": "code",
   "source": [
    "import kotlinx.datetime.DayOfWeek\n",
    "\n",
    "\n",
    "val dfExtra = df.add(\"DayOfWeek\"){Datetime.dayOfWeek}.add(\"hourOfDay\"){Datetime.hour}.add(\"Date\"){Datetime.date}\n",
    "dfExtra.generateCode()\n",
    "dfExtra.generateInterfaces()\n"
   ],
   "outputs": [],
   "execution_count": null
  },
  {
   "metadata": {},
   "cell_type": "code",
   "source": "dfExtra.select{hourOfDay and DayOfWeek and AmountStolen and CategoryOfItemsStolen and TypeOfProperty}\n",
   "outputs": [],
   "execution_count": null
  },
  {
   "metadata": {},
   "cell_type": "markdown",
   "source": "### Visualize Data"
  },
  {
   "metadata": {},
   "cell_type": "code",
   "source": "%use kandy",
   "outputs": [],
   "execution_count": null
  },
  {
   "metadata": {},
   "cell_type": "code",
   "source": [
    "dfExtra.plot {\n",
    "    points {\n",
    "        x(Datetime){\n",
    "            axis.name = \"Day\"\n",
    "        }\n",
    "        y(CategoryOfItemsStolen) {\n",
    "            axis.name = \"Category of Stolen Goods\"\n",
    "        }\n",
    "        size(AmountStolen){\n",
    "            scale = continuous(range = 4.0..50.0)\n",
    "        }\n",
    "        color(ArrestMade) {\n",
    "            scale = continuous(range = Color.BLUE..Color.RED)\n",
    "        }\n",
    "        symbol(TypeOfProperty) {\n",
    "            legend {\n",
    "                type = LegendType.DiscreteLegend()\n",
    "                name = \"Type Of Property\"\n",
    "            }\n",
    "        }\n",
    "    }\n",
    "    layout.size = 1200 to 900\n",
    "}"
   ],
   "outputs": [],
   "execution_count": null
  },
  {
   "metadata": {},
   "cell_type": "markdown",
   "source": "### Figure out *WHEN*"
  },
  {
   "metadata": {},
   "cell_type": "code",
   "source": [
    "val narrowedDf = dfExtra\n",
    "    .filter {\n",
    "        CategoryOfItemsStolen == \"food\"\n",
    "                && ArrestMade == false\n",
    "                && Date > LocalDate.parse(\"2024-08-13\")}"
   ],
   "outputs": [],
   "execution_count": null
  },
  {
   "metadata": {},
   "cell_type": "code",
   "source": [
    "import dev.example.utils.getDayPeriodAll\n",
    "\n",
    "val result = narrowedDf.add(\"periodOfDay\"){getDayPeriodAll(hourOfDay)}\n",
    "    .groupBy(\"DayOfWeek\", \"periodOfDay\")\n",
    "    .aggregate { count() into \"count\" }\n",
    "\n",
    "// Print the result\n",
    "result.print()"
   ],
   "outputs": [],
   "execution_count": null
  },
  {
   "metadata": {},
   "cell_type": "code",
   "source": [
    "result.plot {\n",
    "    x(DayOfWeek) {\n",
    "        axis {\n",
    "            name = \"Date of Week\" // Axis label\n",
    "        }\n",
    "    }\n",
    "    y(count) {\n",
    "        axis.name = \"Food Crimes Count\"\n",
    "    }\n",
    "\n",
    "    bars {\n",
    "        fillColor(\"periodOfDay\") {\n",
    "            legend {\n",
    "                type = LegendType.DiscreteLegend()\n",
    "                name = \"Period of Day\"\n",
    "            }\n",
    "        }\n",
    "        //position = Position.stack()\n",
    "    }\n",
    "    layout.size = 1200 to 700\n",
    "}"
   ],
   "outputs": [],
   "execution_count": null
  },
  {
   "metadata": {},
   "cell_type": "markdown",
   "source": "### Figure out *WHERE*"
  },
  {
   "metadata": {},
   "cell_type": "code",
   "source": [
    "import java.net.URI\n",
    "import javax.imageio.ImageIO\n",
    "import dev.example.utils.*\n",
    "\n",
    "val markers = narrowedDf.map {googleMapsMarker(\n",
    "        label = TypeOfProperty, \n",
    "        lat = Latitude, \n",
    "        lon = Longitude) \n",
    "    }.joinToString(\"\")\n",
    "\n",
    "val url = \"https://maps.google.com/maps/api/staticmap?center=Finance+District,New+York,NY&zoom=14&size=512x512&maptype=roadmap$markers&sensor=false&key=$googleMapsKey\"\n",
    "Image(ImageIO.read(URL(url).openStream())).withWidth(600)"
   ],
   "outputs": [],
   "execution_count": null
  }
 ],
 "metadata": {
  "kernelspec": {
   "display_name": "Kotlin",
   "language": "kotlin",
   "name": "kotlin"
  },
  "language_info": {
   "name": "kotlin",
   "version": "1.9.23",
   "mimetype": "text/x-kotlin",
   "file_extension": ".kt",
   "pygments_lexer": "kotlin",
   "codemirror_mode": "text/x-kotlin",
   "nbconvert_exporter": ""
  },
  "ktnbPluginMetadata": {
   "projectDependencies": [
    "langchain4j.main",
    "langchain4j.test"
   ]
  }
 },
 "nbformat": 4,
 "nbformat_minor": 0
}
