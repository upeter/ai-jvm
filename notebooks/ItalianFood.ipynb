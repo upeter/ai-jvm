{
 "cells": [
  {
   "cell_type": "code",
   "metadata": {
    "collapsed": true,
    "ExecuteTime": {
     "end_time": "2024-07-08T11:17:16.265137Z",
     "start_time": "2024-07-08T11:17:12.642442Z"
    }
   },
   "source": [
    "%use dataframe\n",
    "%useLatestDescriptors\n"
   ],
   "outputs": [],
   "execution_count": 1
  },
  {
   "metadata": {
    "ExecuteTime": {
     "end_time": "2024-07-08T11:17:38.551953Z",
     "start_time": "2024-07-08T11:17:37.589855Z"
    }
   },
   "cell_type": "code",
   "source": [
    "var df = DataFrame.read(\"src/main/resources/food/gz_recipe.csv\")\n",
    "\n",
    "// Print your data frame\n",
    "df.schema()"
   ],
   "outputs": [
    {
     "data": {
      "text/plain": [
       "untitled: Int\n",
       "Nome: String\n",
       "Categoria: String?\n",
       "Link: URL\n",
       "Persone/Pezzi: Int\n",
       "Ingredienti: String\n",
       "Steps: String?"
      ]
     },
     "execution_count": 2,
     "metadata": {},
     "output_type": "execute_result"
    }
   ],
   "execution_count": 2
  },
  {
   "metadata": {
    "ExecuteTime": {
     "end_time": "2024-07-08T12:32:26.944423Z",
     "start_time": "2024-07-08T12:32:26.697203Z"
    }
   },
   "cell_type": "code",
   "source": [
    "df.head(10)\n",
    "HTML(\"\"\"\n",
    "<iframe width=\"425\" height=\"350\" src=\"${df.Link.get(0)}\" style=\"border: 1px solid black\"></iframe><br/>\n",
    "\"\"\")\n",
    "df.size()\n"
   ],
   "outputs": [
    {
     "data": {
      "text/plain": [
       "5939 x 7"
      ]
     },
     "execution_count": 13,
     "metadata": {},
     "output_type": "execute_result"
    }
   ],
   "execution_count": 13
  },
  {
   "metadata": {
    "ExecuteTime": {
     "end_time": "2024-07-08T11:20:33.820180Z",
     "start_time": "2024-07-08T11:20:33.816085Z"
    }
   },
   "cell_type": "code",
   "source": "",
   "outputs": [],
   "execution_count": 6
  },
  {
   "metadata": {
    "ExecuteTime": {
     "end_time": "2024-07-08T11:34:07.658344Z",
     "start_time": "2024-07-08T11:34:07.543821Z"
    }
   },
   "cell_type": "code",
   "source": "df.Steps.get(0)",
   "outputs": [
    {
     "data": {
      "text/plain": [
       "Per preparare il tiramisù preparate il caffé con la moka per ottenerne 300 g, poi zuccherate a piacere (noi abbiamo messo un cucchiaino) e lasciatelo raffreddare in una ciotolina bassa e ampia. Separate le uova dividendo gli albumi dai tuorli ricordando che per montare bene gli albumi non dovranno presentare alcuna traccia di tuorlo. Montate i tuorli con le fruste elettriche, versando solo metà dose di zucchero Non appena il composto sarà diventato chiaro e spumoso, e con le fruste ancora in funzione, potrete aggiungere il mascarpone, poco alla volta Incorporato tutto il formaggio avrete ottenuto una crema densa e compatta Quando saranno schiumosi versate il restante zucchero un po’ alla volta Dovrete montarli a neve ben ferma così stempererete il composto. Dopodiché procedete ad aggiungere la restante parte di albumi, poco alla volta mescolando molto delicatamente dal basso verso l'alto La crema al mascarpone è ora pronta Distribuitene una generosa cucchiaiata sul fondo di una pirofila di vetro, grande 30x19,5cm e distribuite per bene su tutta la base. Inzuppate per pochi istanti i savoiardi nel caffè freddo prima da un lato e poi dall’altro Man mano distribuite i savoiardi imbevuti nella pirofila, cercando di sistemarli tutti in un verso, così da ottenere un primo strato di biscotti Aggiungete altra crema al mascarpone e livellatela in modo da coprirli completamente E continuate a distribuire i savoiardi imbevuti nel caffè poi realizzate un altro strato di crema Trasferite la crema rimasta in un sac-à-poche con beccuccio liscio di diametro 12 mm e realizzare dei ciuffetti per tutta la dimensione della teglia Spolverizzatela con del cacao amaro in polvere Il vostro tiramisù è pronto per essere gustato!"
      ]
     },
     "execution_count": 12,
     "metadata": {},
     "output_type": "execute_result"
    }
   ],
   "execution_count": 12
  }
 ],
 "metadata": {
  "kernelspec": {
   "display_name": "Kotlin",
   "language": "kotlin",
   "name": "kotlin"
  },
  "language_info": {
   "name": "kotlin",
   "version": "1.9.23",
   "mimetype": "text/x-kotlin",
   "file_extension": ".kt",
   "pygments_lexer": "kotlin",
   "codemirror_mode": "text/x-kotlin",
   "nbconvert_exporter": ""
  }
 },
 "nbformat": 4,
 "nbformat_minor": 0
}
