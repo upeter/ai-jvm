{
 "cells": [
  {
   "metadata": {
    "ExecuteTime": {
     "end_time": "2025-04-14T11:36:31.637059Z",
     "start_time": "2025-04-14T11:36:30.922960Z"
    }
   },
   "cell_type": "code",
   "source": [
    "import com.fasterxml.jackson.module.kotlin.jacksonObjectMapper\n",
    "import kotlinx.coroutines.runBlocking\n",
    "import org.springframework.web.client.RestTemplate\n",
    "import org.springframework.web.reactive.function.client.WebClient\n",
    "import org.springframework.web.reactive.function.client.awaitBody\n",
    "import org.springframework.web.reactive.function.client.bodyToFlow\n",
    "import com.fasterxml.jackson.module.kotlin.readValue\n",
    "import java.net.URI\n",
    "\n",
    "fun GET(url: String, isJson: Boolean = false): String = runBlocking {\n",
    "    val client = WebClient.builder().build().get()\n",
    "        .uri(URI(url.replace(\" \", \"%20\")))\n",
    "        .retrieve()\n",
    "    if (isJson) {\n",
    "        client.awaitBody<String>().let {\n",
    "\n",
    "            jacksonObjectMapper().writerWithDefaultPrettyPrinter().writeValueAsString(jacksonObjectMapper().readValue<Map<String, Any>>(it))\n",
    "        }\n",
    "    } else\n",
    "        client.bodyToFlow<String>()\n",
    "            .collect { println(it) }.let { \"\" }\n",
    "}\n",
    "\n",
    "\n"
   ],
   "outputs": [],
   "execution_count": 2
  },
  {
   "metadata": {},
   "cell_type": "markdown",
   "source": [
    "### Basic Examples with Spring AI\n",
    "<img src=\"https://cdn.hashnode.com/res/hashnode/image/upload/v1727622091963/9919e14e-728e-4fad-b8b1-334bf0fffc0b.png?w=1600&h=840&fit=crop&crop=entropy&auto=compress,format&format=webp\" alt=\"LangChain4J\" width=\"300\" height=\"200\">"
   ]
  },
  {
   "metadata": {
    "ExecuteTime": {
     "end_time": "2025-03-30T15:10:18.394559Z",
     "start_time": "2025-03-30T15:10:18.293875Z"
    }
   },
   "cell_type": "code",
   "source": [
    "val foodUrl = \"https://www.tastingtable.com/img/gallery/20-italian-dishes-you-need-to-try-at-least-once/l-intro-1702481237.jpg\"\n",
    "\n",
    "HTML(\"\"\"<img src=\"$foodUrl\" alt=\"Food\" width=\"500\" height=\"400\">\"\"\")"
   ],
   "outputs": [
    {
     "data": {
      "text/html": [
       "<img src=\"https://www.tastingtable.com/img/gallery/20-italian-dishes-you-need-to-try-at-least-once/l-intro-1702481237.jpg\" alt=\"Food\" width=\"500\" height=\"400\">"
      ]
     },
     "execution_count": 8,
     "metadata": {},
     "output_type": "execute_result"
    }
   ],
   "execution_count": 8
  },
  {
   "metadata": {},
   "cell_type": "code",
   "outputs": [],
   "execution_count": null,
   "source": "GET(url = \"http://localhost:8080/ai/media-prompt?url=$foodUrl\")"
  },
  {
   "metadata": {
    "ExecuteTime": {
     "end_time": "2025-04-14T11:47:47.304776Z",
     "start_time": "2025-04-14T11:47:44.913484Z"
    }
   },
   "cell_type": "code",
   "source": "GET(url = \"http://localhost:8080/ai/prompt-classifier?prompt=I'd like to have something with pizza and mushrooms\")",
   "outputs": [
    {
     "name": "stdout",
     "output_type": "stream",
     "text": [
      "{\"classification\":\"FOOD\",\"dish\":\"Pizza with Mushrooms\",\"ingredients\":[\"Pizza\",\"Mushrooms\"]}\n"
     ]
    },
    {
     "data": {
      "text/plain": []
     },
     "execution_count": 15,
     "metadata": {},
     "output_type": "execute_result"
    }
   ],
   "execution_count": 15
  }
 ],
 "metadata": {
  "kernelspec": {
   "display_name": "Kotlin",
   "language": "kotlin",
   "name": "kotlin"
  },
  "language_info": {
   "name": "kotlin",
   "version": "1.9.23",
   "mimetype": "text/x-kotlin",
   "file_extension": ".kt",
   "pygments_lexer": "kotlin",
   "codemirror_mode": "text/x-kotlin",
   "nbconvert_exporter": ""
  },
  "ktnbPluginMetadata": {
   "projectDependencies": [
    "spring-ai"
   ],
   "projectLibraries": false
  }
 },
 "nbformat": 4,
 "nbformat_minor": 0
}
