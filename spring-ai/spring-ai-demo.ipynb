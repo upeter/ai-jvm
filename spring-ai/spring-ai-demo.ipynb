{
 "cells": [
  {
   "cell_type": "code",
   "metadata": {
    "collapsed": true
   },
   "source": [
    "import com.fasterxml.jackson.module.kotlin.jacksonObjectMapper\n",
    "import kotlinx.coroutines.runBlocking\n",
    "import org.springframework.web.client.RestTemplate\n",
    "import org.springframework.web.reactive.function.client.WebClient\n",
    "import org.springframework.web.reactive.function.client.awaitBody\n",
    "import org.springframework.web.reactive.function.client.bodyToFlow\n",
    "import com.fasterxml.jackson.module.kotlin.readValue\n",
    "import java.net.URI\n",
    "\n",
    "val webClient = WebClient.builder().build()\n",
    "val mapper = jacksonObjectMapper()\n",
    "fun String.get():Unit = runBlocking {\n",
    "    webClient.get()\n",
    "        .uri(URI(this@get.replace(\" \", \"%20\")))\n",
    "        .retrieve()\n",
    "        .bodyToFlow<String>()\n",
    "        .collect { println(it) }\n",
    "}\n",
    "\n",
    "fun String.getJson():String = runBlocking {\n",
    "    webClient.get()\n",
    "        .uri(URI(this@getJson.replace(\" \", \"%20\")))\n",
    "        .retrieve()\n",
    "        .awaitBody<String>().let{ \n",
    "            \n",
    "            mapper.writerWithDefaultPrettyPrinter().writeValueAsString(mapper.readValue<Map<String, Any>>(it)) }\n",
    "}\n",
    "\n"
   ],
   "outputs": [],
   "execution_count": null
  },
  {
   "metadata": {},
   "cell_type": "markdown",
   "source": [
    "### Basic Examples with Spring AI\n",
    "<img src=\"https://cdn.hashnode.com/res/hashnode/image/upload/v1727622091963/9919e14e-728e-4fad-b8b1-334bf0fffc0b.png?w=1600&h=840&fit=crop&crop=entropy&auto=compress,format&format=webp\" alt=\"LangChain4J\" width=\"300\" height=\"200\">"
   ]
  },
  {
   "metadata": {},
   "cell_type": "code",
   "source": [
    "val url = \"https://www.tastingtable.com/img/gallery/20-italian-dishes-you-need-to-try-at-least-once/l-intro-1702481237.jpg\"\n",
    "\n",
    "HTML(\"\"\"<img src=\"$url\" alt=\"Food\" width=\"500\" height=\"400\">\"\"\")"
   ],
   "outputs": [],
   "execution_count": null
  },
  {
   "metadata": {},
   "cell_type": "code",
   "source": "\"http://localhost:8080/ai/media-prompt?url=$url\".get()",
   "outputs": [],
   "execution_count": null
  }
 ],
 "metadata": {
  "kernelspec": {
   "display_name": "Kotlin",
   "language": "kotlin",
   "name": "kotlin"
  },
  "language_info": {
   "name": "kotlin",
   "version": "1.9.23",
   "mimetype": "text/x-kotlin",
   "file_extension": ".kt",
   "pygments_lexer": "kotlin",
   "codemirror_mode": "text/x-kotlin",
   "nbconvert_exporter": ""
  }
 },
 "nbformat": 4,
 "nbformat_minor": 0
}
