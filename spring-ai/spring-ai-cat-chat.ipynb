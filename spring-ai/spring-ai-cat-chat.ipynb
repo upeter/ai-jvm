{
 "cells": [
  {
   "cell_type": "code",
   "metadata": {
    "collapsed": true,
    "ExecuteTime": {
     "end_time": "2024-09-09T13:31:23.339068Z",
     "start_time": "2024-09-09T13:31:20.418268Z"
    }
   },
   "source": [
    "%use dataframe\n",
    "%useLatestDescriptors"
   ],
   "outputs": [],
   "execution_count": 2
  },
  {
   "metadata": {
    "ExecuteTime": {
     "end_time": "2024-09-09T13:31:20.414891Z",
     "start_time": "2024-09-09T13:31:20.375683Z"
    }
   },
   "cell_type": "code",
   "source": [
    "import org.springframework.web.reactive.function.client.WebClient\n",
    "import org.springframework.web.reactive.function.client.bodyToFlow\n",
    "import org.springframework.web.reactive.function.client.exchangeToFlow\n",
    "import dev.example.ChatInput\n",
    "import kotlinx.coroutines.runBlocking\n",
    "import kotlinx.coroutines.flow.Flow\n",
    "import org.springframework.web.reactive.function.client.*"
   ],
   "outputs": [],
   "execution_count": 1
  },
  {
   "metadata": {
    "ExecuteTime": {
     "end_time": "2024-09-09T13:31:23.883572Z",
     "start_time": "2024-09-09T13:31:23.351908Z"
    }
   },
   "cell_type": "code",
   "source": [
    "val exchangeStrategies = ExchangeStrategies.builder()\n",
    "    .codecs { configurer ->\n",
    "        configurer.defaultCodecs().maxInMemorySize(10 * 1024 * 1024) // 10 MB\n",
    "    }\n",
    "    .build()\n",
    "\n",
    "val webClient = WebClient.builder().exchangeStrategies(exchangeStrategies).build()"
   ],
   "outputs": [],
   "execution_count": 3
  },
  {
   "metadata": {
    "ExecuteTime": {
     "end_time": "2024-09-09T13:32:12.933373Z",
     "start_time": "2024-09-09T13:32:12.713374Z"
    }
   },
   "cell_type": "code",
   "source": [
    "fun WebClient.streamingChat(chatRequest: ChatInput): Flow<String> {\n",
    "    val url = \"http://localhost:8080/ai/stream\"\n",
    "    return this.post()\n",
    "        .uri(url)\n",
    "        .bodyValue(chatRequest)\n",
    "        .retrieve()\n",
    "        .bodyToFlow<String>()\n",
    "}"
   ],
   "outputs": [],
   "execution_count": 4
  },
  {
   "metadata": {
    "ExecuteTime": {
     "end_time": "2024-09-09T13:19:07.030504Z",
     "start_time": "2024-09-09T13:19:06.409723Z"
    }
   },
   "cell_type": "code",
   "outputs": [
    {
     "name": "stdout",
     "output_type": "stream",
     "text": [
      "What do you call a pile of cats? \n",
      "\n",
      "A meow-tain!\n"
     ]
    }
   ],
   "execution_count": 6,
   "source": [
    "import kotlinx.coroutines.runBlocking\n",
    "\n",
    "runBlocking {\n",
    "\n",
    "    val prompt = ChatInput(\"\"\"Tell me a joke about cats that is max 50 words long\"\"\")\n",
    "\n",
    "    webClient.streamingChat(prompt).collect {\n",
    "        println(it) // prints the response line by line\n",
    "\n",
    "    }\n",
    "}"
   ]
  },
  {
   "metadata": {
    "ExecuteTime": {
     "end_time": "2024-09-09T13:32:22.215653Z",
     "start_time": "2024-09-09T13:32:22.152203Z"
    }
   },
   "cell_type": "code",
   "source": [
    "\n",
    "fun WebClient.chat(chatRequest: ChatInput): Flow<String> {\n",
    "    val url = \"http://localhost:8080/ai/chat\"\n",
    "    return this.post()\n",
    "        .uri(url)\n",
    "        .bodyValue(chatRequest)\n",
    "        .retrieve()\n",
    "        .bodyToFlow<String>()\n",
    "}\n"
   ],
   "outputs": [],
   "execution_count": 5
  },
  {
   "metadata": {
    "ExecuteTime": {
     "end_time": "2024-09-09T13:32:25.755452Z",
     "start_time": "2024-09-09T13:32:25.411943Z"
    }
   },
   "cell_type": "code",
   "source": [
    "var history:String = \"\"\n",
    "fun chat(message: String, messageId:String) = runBlocking {\n",
    "        print(history + \"\\n\\n\")\n",
    "        webClient.streamingChat(ChatInput(message, messageId)).collect {\n",
    "        println(it)// prints the response line by line\n",
    "            history += it\n",
    "\n",
    "        }\n",
    "    }\n"
   ],
   "outputs": [],
   "execution_count": 6
  },
  {
   "metadata": {
    "ExecuteTime": {
     "end_time": "2024-08-26T09:00:28.098598Z",
     "start_time": "2024-08-26T09:00:28.046416Z"
    }
   },
   "cell_type": "code",
   "source": "val conversationId = \"12345633\"",
   "outputs": [],
   "execution_count": 17
  },
  {
   "metadata": {
    "ExecuteTime": {
     "end_time": "2024-08-26T09:00:31.316647Z",
     "start_time": "2024-08-26T09:00:29.841671Z"
    }
   },
   "cell_type": "code",
   "source": [
    "weather(\"What's the weather in Amsterdam in Celcius?\" , conversationId)\n",
    "//chat(\"What do you want?\" , conversationId)\n",
    "//chat(\"As a starter I want something very cheesy with mozarella, tomatoes and Basilicum\" , conversationId)\n",
    "//chat(\"I want something cheezy with mozarella, pasta and meat\" , conversationId)\n",
    "\n",
    "//chat(\"I want the mozarella dish\" , conversationId)\n",
    "//chat(\"I want to go with that\" , conversationId)\n",
    "//chat(\"I want a pizza with meat, meatballs and various cheeses\" , conversationId)\n",
    "//chat(\"Spaghetti Carbonara\" , conversationId)\n",
    "//chat(\"As dessert I want  something with a lot of cream, berries and caramel\" , conversationId)\n",
    "//chat(\"Cream Tart\" , conversationId)\n",
    "//chat(\"The order is complete\" , conversationId)"
   ],
   "outputs": [
    {
     "name": "stdout",
     "output_type": "stream",
     "text": [
      "The current temperature in Amsterdam is 30°C.\n"
     ]
    }
   ],
   "execution_count": 18
  },
  {
   "metadata": {
    "ExecuteTime": {
     "end_time": "2024-08-20T15:54:37.079896Z",
     "start_time": "2024-08-20T15:54:36.952241Z"
    }
   },
   "cell_type": "code",
   "source": [
    "import org.springframework.web.reactive.function.client.awaitBody\n",
    "import dev.example.*\n",
    "import java.io.ByteArrayInputStream\n",
    "\n",
    "suspend fun  WebClient.speech(chatRequest: ChatInput): ByteArray {\n",
    "    val url = \"http://localhost:8080/ai/speech\"\n",
    "    return this.post()\n",
    "        .uri(url)\n",
    "        .bodyValue(chatRequest)\n",
    "        .retrieve()\n",
    "        .awaitBody<ByteArray>()\n",
    "}\n",
    "fun speech(message: String, messageId:String) = runBlocking {\n",
    "    playMp3(ByteArrayInputStream(webClient.speech(ChatInput(message, messageId))))\n",
    "}\n",
    "val conversationId = \"12345632\""
   ],
   "outputs": [],
   "execution_count": 98
  },
  {
   "metadata": {
    "ExecuteTime": {
     "end_time": "2024-08-20T15:55:32.053408Z",
     "start_time": "2024-08-20T15:55:23.708041Z"
    }
   },
   "cell_type": "code",
   "source": [
    "//speech(\"What's up?\" , conversationId)\n",
    "//speech(\"As main dish I want a pizza with meat, meatballs and various cheeses\" , conversationId)\n",
    "speech(\"As dessert I want  something with a lot of cream, berries and caramel\" , conversationId)"
   ],
   "outputs": [],
   "execution_count": 101
  },
  {
   "metadata": {},
   "cell_type": "code",
   "outputs": [],
   "execution_count": null,
   "source": ""
  }
 ],
 "metadata": {
  "kernelspec": {
   "display_name": "Kotlin",
   "language": "kotlin",
   "name": "kotlin"
  },
  "language_info": {
   "name": "kotlin",
   "version": "1.9.23",
   "mimetype": "text/x-kotlin",
   "file_extension": ".kt",
   "pygments_lexer": "kotlin",
   "codemirror_mode": "text/x-kotlin",
   "nbconvert_exporter": ""
  },
  "ktnbPluginMetadata": {
   "projectDependencies": [
    "spring-ai-samples"
   ]
  }
 },
 "nbformat": 4,
 "nbformat_minor": 0
}
