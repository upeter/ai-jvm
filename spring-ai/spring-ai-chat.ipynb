{
 "cells": [
  {
   "cell_type": "code",
   "metadata": {
    "collapsed": true,
    "ExecuteTime": {
     "end_time": "2024-09-09T13:09:59.259332Z",
     "start_time": "2024-09-09T13:09:58.432364Z"
    }
   },
   "source": [
    "%use dataframe\n",
    "%useLatestDescriptors"
   ],
   "outputs": [],
   "execution_count": 2
  },
  {
   "metadata": {
    "ExecuteTime": {
     "end_time": "2024-09-09T13:18:24.894243Z",
     "start_time": "2024-09-09T13:18:24.852282Z"
    }
   },
   "cell_type": "code",
   "source": [
    "import org.springframework.web.reactive.function.client.WebClient\n",
    "import org.springframework.web.reactive.function.client.bodyToFlow\n",
    "import org.springframework.web.reactive.function.client.exchangeToFlow\n",
    "import dev.example.ChatInput\n",
    "import kotlinx.coroutines.runBlocking\n",
    "import kotlinx.coroutines.flow.Flow\n",
    "import org.springframework.web.reactive.function.client.*"
   ],
   "outputs": [],
   "execution_count": 1
  },
  {
   "metadata": {
    "ExecuteTime": {
     "end_time": "2024-09-09T13:18:26.867110Z",
     "start_time": "2024-09-09T13:18:26.340950Z"
    }
   },
   "cell_type": "code",
   "source": [
    "val exchangeStrategies = ExchangeStrategies.builder()\n",
    "    .codecs { configurer ->\n",
    "        configurer.defaultCodecs().maxInMemorySize(10 * 1024 * 1024) // 10 MB\n",
    "    }\n",
    "    .build()\n",
    "\n",
    "val webClient = WebClient.builder().exchangeStrategies(exchangeStrategies).build()"
   ],
   "outputs": [
    {
     "name": "stdout",
     "output_type": "stream",
     "text": [
      "15:18:26,572 |-INFO in ch.qos.logback.classic.LoggerContext[default] - This is logback-classic version 1.5.6\n",
      "15:18:26,573 |-INFO in ch.qos.logback.classic.util.ContextInitializer@4197aa3f - Here is a list of configurators discovered as a service, by rank: \n",
      "15:18:26,573 |-INFO in ch.qos.logback.classic.util.ContextInitializer@4197aa3f -   org.springframework.boot.logging.logback.RootLogLevelConfigurator\n",
      "15:18:26,573 |-INFO in ch.qos.logback.classic.util.ContextInitializer@4197aa3f - They will be invoked in order until ExecutionStatus.DO_NOT_INVOKE_NEXT_IF_ANY is returned.\n",
      "15:18:26,573 |-INFO in ch.qos.logback.classic.util.ContextInitializer@4197aa3f - Constructed configurator of type class org.springframework.boot.logging.logback.RootLogLevelConfigurator\n",
      "15:18:26,573 |-INFO in ch.qos.logback.classic.util.ContextInitializer@4197aa3f - org.springframework.boot.logging.logback.RootLogLevelConfigurator.configure() call lasted 0 milliseconds. ExecutionStatus=INVOKE_NEXT_IF_ANY\n",
      "15:18:26,573 |-INFO in ch.qos.logback.classic.util.ContextInitializer@4197aa3f - Trying to configure with ch.qos.logback.classic.joran.SerializedModelConfigurator\n",
      "15:18:26,574 |-INFO in ch.qos.logback.classic.util.ContextInitializer@4197aa3f - Constructed configurator of type class ch.qos.logback.classic.joran.SerializedModelConfigurator\n",
      "15:18:26,574 |-INFO in ch.qos.logback.classic.LoggerContext[default] - Could NOT find resource [logback-test.scmo]\n",
      "15:18:26,574 |-INFO in ch.qos.logback.classic.LoggerContext[default] - Could NOT find resource [logback.scmo]\n",
      "15:18:26,574 |-INFO in ch.qos.logback.classic.util.ContextInitializer@4197aa3f - ch.qos.logback.classic.joran.SerializedModelConfigurator.configure() call lasted 0 milliseconds. ExecutionStatus=INVOKE_NEXT_IF_ANY\n",
      "15:18:26,574 |-INFO in ch.qos.logback.classic.util.ContextInitializer@4197aa3f - Trying to configure with ch.qos.logback.classic.util.DefaultJoranConfigurator\n",
      "15:18:26,574 |-INFO in ch.qos.logback.classic.util.ContextInitializer@4197aa3f - Constructed configurator of type class ch.qos.logback.classic.util.DefaultJoranConfigurator\n",
      "15:18:26,574 |-INFO in ch.qos.logback.classic.LoggerContext[default] - Could NOT find resource [logback-test.xml]\n",
      "15:18:26,574 |-INFO in ch.qos.logback.classic.LoggerContext[default] - Found resource [logback.xml] at [jar:file:/Users/urs/Library/Caches/JetBrains/IntelliJIdea2024.2/kotlinNotebook/kotlin-ai-talk.8ef6fd83/kernels/0.12.0-270/kotlin-jupyter-kernel-shadowed-jar/kotlin-jupyter-kernel-shadowed-0.12.0-270.jar!/logback.xml]\n",
      "15:18:26,575 |-WARN in ch.qos.logback.classic.util.DefaultJoranConfigurator@13a1a964 - Resource [logback.xml] occurs multiple times on the classpath.\n",
      "15:18:26,575 |-WARN in ch.qos.logback.classic.util.DefaultJoranConfigurator@13a1a964 - Resource [logback.xml] occurs at [jar:file:/Users/urs/Library/Caches/JetBrains/IntelliJIdea2024.2/kotlinNotebook/kotlin-ai-talk.8ef6fd83/kernels/0.12.0-270/kotlin-jupyter-kernel-shadowed-jar/kotlin-jupyter-kernel-shadowed-0.12.0-270.jar!/logback.xml]\n",
      "15:18:26,575 |-WARN in ch.qos.logback.classic.util.DefaultJoranConfigurator@13a1a964 - Resource [logback.xml] occurs at [file:/Users/urs/development/github/ai/kotlin-ai-talk/spring-ai-samples/target/classes/logback.xml]\n",
      "15:18:26,577 |-INFO in ch.qos.logback.core.joran.spi.ConfigurationWatchList@2537f0c8 - URL [jar:file:/Users/urs/Library/Caches/JetBrains/IntelliJIdea2024.2/kotlinNotebook/kotlin-ai-talk.8ef6fd83/kernels/0.12.0-270/kotlin-jupyter-kernel-shadowed-jar/kotlin-jupyter-kernel-shadowed-0.12.0-270.jar!/logback.xml] is not of type file\n",
      "15:18:26,597 |-INFO in ch.qos.logback.core.model.processor.AppenderModelHandler - Processing appender named [STDERR]\n",
      "15:18:26,597 |-INFO in ch.qos.logback.core.model.processor.AppenderModelHandler - About to instantiate appender of type [ch.qos.logback.core.ConsoleAppender]\n",
      "15:18:26,599 |-INFO in ch.qos.logback.core.model.processor.ImplicitModelHandler - Assuming default type [ch.qos.logback.classic.encoder.PatternLayoutEncoder] for [encoder] property\n",
      "15:18:26,605 |-INFO in ch.qos.logback.classic.model.processor.RootLoggerModelHandler - Setting level of ROOT logger to DEBUG\n",
      "15:18:26,605 |-INFO in ch.qos.logback.core.model.processor.AppenderRefModelHandler - Attaching appender named [STDERR] to Logger[ROOT]\n",
      "15:18:26,605 |-INFO in ch.qos.logback.classic.model.processor.LoggerModelHandler - Setting level of logger [org.apache] to ERROR\n",
      "15:18:26,606 |-INFO in ch.qos.logback.classic.model.processor.LoggerModelHandler - Setting level of logger [org.jetbrains.kotlin.org.apache] to ERROR\n",
      "15:18:26,606 |-INFO in ch.qos.logback.classic.model.processor.LoggerModelHandler - Setting level of logger [httpclient] to ERROR\n",
      "15:18:26,606 |-INFO in ch.qos.logback.classic.model.processor.LoggerModelHandler - Setting level of logger [org.jetbrains.kotlin.httpclient] to ERROR\n",
      "15:18:26,606 |-INFO in ch.qos.logback.classic.model.processor.LoggerModelHandler - Setting level of logger [org.eclipse.aether] to DEBUG\n",
      "15:18:26,606 |-INFO in ch.qos.logback.classic.model.processor.LoggerModelHandler - Setting level of logger [org.jetbrains.kotlin.org.eclipse.aether] to DEBUG\n",
      "15:18:26,606 |-INFO in ch.qos.logback.core.model.processor.DefaultProcessor@24e2b2ad - End of configuration.\n",
      "15:18:26,606 |-INFO in ch.qos.logback.classic.joran.JoranConfigurator@58d8225c - Registering current configuration as safe fallback point\n",
      "15:18:26,606 |-INFO in ch.qos.logback.classic.util.ContextInitializer@4197aa3f - ch.qos.logback.classic.util.DefaultJoranConfigurator.configure() call lasted 32 milliseconds. ExecutionStatus=DO_NOT_INVOKE_NEXT_IF_ANY\n",
      "\n"
     ]
    }
   ],
   "execution_count": 2
  },
  {
   "metadata": {
    "ExecuteTime": {
     "end_time": "2024-09-09T13:19:05.281373Z",
     "start_time": "2024-09-09T13:19:05.225790Z"
    }
   },
   "cell_type": "code",
   "source": [
    "fun WebClient.streamingChat(chatRequest: ChatInput): Flow<String> {\n",
    "    val url = \"http://localhost:8080/ai/stream\"\n",
    "    return this.post()\n",
    "        .uri(url)\n",
    "        .bodyValue(chatRequest)\n",
    "        .retrieve()\n",
    "        .bodyToFlow<String>()\n",
    "}"
   ],
   "outputs": [],
   "execution_count": 5
  },
  {
   "metadata": {
    "ExecuteTime": {
     "end_time": "2024-09-09T13:19:07.030504Z",
     "start_time": "2024-09-09T13:19:06.409723Z"
    }
   },
   "cell_type": "code",
   "outputs": [
    {
     "name": "stdout",
     "output_type": "stream",
     "text": [
      "What do you call a pile of cats? \n",
      "\n",
      "A meow-tain!\n"
     ]
    }
   ],
   "execution_count": 6,
   "source": [
    "import kotlinx.coroutines.runBlocking\n",
    "\n",
    "runBlocking {\n",
    "\n",
    "    val prompt = ChatInput(\"\"\"Tell me a joke about cats that is max 50 words long\"\"\")\n",
    "\n",
    "    webClient.streamingChat(prompt).collect {\n",
    "        println(it) // prints the response line by line\n",
    "\n",
    "    }\n",
    "}"
   ]
  },
  {
   "metadata": {
    "ExecuteTime": {
     "end_time": "2024-08-26T08:10:50.832164Z",
     "start_time": "2024-08-26T08:10:50.574848Z"
    }
   },
   "cell_type": "code",
   "source": [
    "\n",
    "fun WebClient.chat(chatRequest: ChatInput): Flow<String> {\n",
    "    val url = \"http://localhost:8080/ai/chat\"\n",
    "    return this.post()\n",
    "        .uri(url)\n",
    "        .bodyValue(chatRequest)\n",
    "        .retrieve()\n",
    "        .bodyToFlow<String>()\n",
    "}\n"
   ],
   "outputs": [],
   "execution_count": 9
  },
  {
   "metadata": {
    "ExecuteTime": {
     "end_time": "2024-08-26T08:10:53.314655Z",
     "start_time": "2024-08-26T08:10:52.800986Z"
    }
   },
   "cell_type": "code",
   "source": [
    "var history:String = \"\"\n",
    "fun chat(message: String, messageId:String) = runBlocking {\n",
    "        print(history + \"\\n\\n\")\n",
    "        webClient.chat(ChatInput(message, messageId)).collect {\n",
    "        println(it)// prints the response line by line\n",
    "            history += it\n",
    "\n",
    "        }\n",
    "    }\n"
   ],
   "outputs": [],
   "execution_count": 10
  },
  {
   "metadata": {
    "ExecuteTime": {
     "end_time": "2024-08-26T09:00:14.446194Z",
     "start_time": "2024-08-26T09:00:14.230089Z"
    }
   },
   "cell_type": "code",
   "source": [
    "fun WebClient.weather(chatRequest: ChatInput): Flow<String> {\n",
    "    val url = \"http://localhost:8080/ai/weather\"\n",
    "    return this.post()\n",
    "        .uri(url)\n",
    "        .bodyValue(chatRequest)\n",
    "        .retrieve()\n",
    "        .bodyToFlow<String>()\n",
    "}\n",
    "fun weather(message: String, messageId:String) = runBlocking {\n",
    "    webClient.weather(ChatInput(message, messageId)).collect {\n",
    "        println(it)// prints the response line by line\n",
    "\n",
    "    }\n",
    "}"
   ],
   "outputs": [],
   "execution_count": 16
  },
  {
   "metadata": {
    "ExecuteTime": {
     "end_time": "2024-08-26T09:00:28.098598Z",
     "start_time": "2024-08-26T09:00:28.046416Z"
    }
   },
   "cell_type": "code",
   "source": "val conversationId = \"12345633\"",
   "outputs": [],
   "execution_count": 17
  },
  {
   "metadata": {
    "ExecuteTime": {
     "end_time": "2024-08-26T09:00:31.316647Z",
     "start_time": "2024-08-26T09:00:29.841671Z"
    }
   },
   "cell_type": "code",
   "source": [
    "weather(\"What's the weather in Amsterdam in Celcius?\" , conversationId)\n",
    "//chat(\"What do you want?\" , conversationId)\n",
    "//chat(\"As a starter I want something very cheesy with mozarella, tomatoes and Basilicum\" , conversationId)\n",
    "//chat(\"I want something cheezy with mozarella, pasta and meat\" , conversationId)\n",
    "\n",
    "//chat(\"I want the mozarella dish\" , conversationId)\n",
    "//chat(\"I want to go with that\" , conversationId)\n",
    "//chat(\"I want a pizza with meat, meatballs and various cheeses\" , conversationId)\n",
    "//chat(\"Spaghetti Carbonara\" , conversationId)\n",
    "//chat(\"As dessert I want  something with a lot of cream, berries and caramel\" , conversationId)\n",
    "//chat(\"Cream Tart\" , conversationId)\n",
    "//chat(\"The order is complete\" , conversationId)"
   ],
   "outputs": [
    {
     "name": "stdout",
     "output_type": "stream",
     "text": [
      "The current temperature in Amsterdam is 30°C.\n"
     ]
    }
   ],
   "execution_count": 18
  },
  {
   "metadata": {
    "ExecuteTime": {
     "end_time": "2024-08-20T15:54:37.079896Z",
     "start_time": "2024-08-20T15:54:36.952241Z"
    }
   },
   "cell_type": "code",
   "source": [
    "import org.springframework.web.reactive.function.client.awaitBody\n",
    "import dev.example.*\n",
    "import java.io.ByteArrayInputStream\n",
    "\n",
    "suspend fun  WebClient.speech(chatRequest: ChatInput): ByteArray {\n",
    "    val url = \"http://localhost:8080/ai/speech\"\n",
    "    return this.post()\n",
    "        .uri(url)\n",
    "        .bodyValue(chatRequest)\n",
    "        .retrieve()\n",
    "        .awaitBody<ByteArray>()\n",
    "}\n",
    "fun speech(message: String, messageId:String) = runBlocking {\n",
    "    playMp3(ByteArrayInputStream(webClient.speech(ChatInput(message, messageId))))\n",
    "}\n",
    "val conversationId = \"12345632\""
   ],
   "outputs": [],
   "execution_count": 98
  },
  {
   "metadata": {
    "ExecuteTime": {
     "end_time": "2024-08-20T15:55:32.053408Z",
     "start_time": "2024-08-20T15:55:23.708041Z"
    }
   },
   "cell_type": "code",
   "source": [
    "//speech(\"What's up?\" , conversationId)\n",
    "//speech(\"As main dish I want a pizza with meat, meatballs and various cheeses\" , conversationId)\n",
    "speech(\"As dessert I want  something with a lot of cream, berries and caramel\" , conversationId)"
   ],
   "outputs": [],
   "execution_count": 101
  },
  {
   "metadata": {},
   "cell_type": "code",
   "outputs": [],
   "execution_count": null,
   "source": ""
  }
 ],
 "metadata": {
  "kernelspec": {
   "display_name": "Kotlin",
   "language": "kotlin",
   "name": "kotlin"
  },
  "language_info": {
   "name": "kotlin",
   "version": "1.9.23",
   "mimetype": "text/x-kotlin",
   "file_extension": ".kt",
   "pygments_lexer": "kotlin",
   "codemirror_mode": "text/x-kotlin",
   "nbconvert_exporter": ""
  },
  "ktnbPluginMetadata": {
   "projectDependencies": [
    "spring-ai-samples"
   ]
  }
 },
 "nbformat": 4,
 "nbformat_minor": 0
}
