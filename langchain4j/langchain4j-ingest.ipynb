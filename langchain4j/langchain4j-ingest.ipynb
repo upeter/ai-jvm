{
 "cells": [
  {
   "metadata": {},
   "cell_type": "markdown",
   "source": [
    "### Data Ingestion with LangChain4j\n",
    "<img src=\"https://docs.langchain4j.dev/img/logo.svg\" alt=\"LangChain4J\" width=\"200\" height=\"200\">"
   ]
  },
  {
   "cell_type": "code",
   "metadata": {
    "collapsed": true
   },
   "source": [
    "%use dataframe\n",
    "%useLatestDescriptors\n",
    "\n",
    "import com.fasterxml.jackson.module.kotlin.jacksonObjectMapper\n",
    "import com.fasterxml.jackson.module.kotlin.readValue\n",
    "import dev.langchain4j.data.segment.TextSegment\n",
    "import dev.langchain4j.store.embedding.EmbeddingStore\n",
    "import dev.langchain4j.store.embedding.pgvector.PgVectorEmbeddingStore\n",
    "import dev.langchain4j.model.embedding.*\n",
    "import dev.langchain4j.model.embedding.onnx.allminilml6v2.AllMiniLmL6V2EmbeddingModel\n",
    "import dev.langchain4j.data.embedding.*\n",
    "import dev.langchain4j.store.embedding.*\n",
    "import java.util.Arrays\n"
   ],
   "outputs": [],
   "execution_count": null
  },
  {
   "metadata": {},
   "cell_type": "code",
   "source": [
    "\n",
    "val host = \"localhost\"\n",
    "val port = 5431\n",
    "val user = \"user\"\n",
    "val password = \"password\"\n",
    "val mapper = jacksonObjectMapper()\n"
   ],
   "outputs": [],
   "execution_count": null
  },
  {
   "metadata": {},
   "cell_type": "markdown",
   "source": "### Embedding Models"
  },
  {
   "metadata": {},
   "cell_type": "code",
   "source": [
    "import org.jetbrains.kotlinx.dataframe.codeGen.generateCode\n",
    "val df = DataFrame.read(\"src/main/resources/food/italian_delaight_dishes.csv\")\n",
    "df.generateCode()\n",
    "df.head()\n"
   ],
   "outputs": [],
   "execution_count": null
  },
  {
   "metadata": {},
   "cell_type": "code",
   "source": [
    "val firstDish = df.first().run {\n",
    "    val ingredients = Ingredients.replace(\"'\", \"\\\"\")\n",
    "    \"\"\"${Name} ${Category} ${mapper.readValue<List<List<String>>>(ingredients).map { it[0] }}\"\"\"\n",
    "}\n",
    "firstDish\n"
   ],
   "outputs": [],
   "execution_count": null
  },
  {
   "metadata": {},
   "cell_type": "code",
   "source": "val embeddingModel = AllMiniLmL6V2EmbeddingModel()",
   "outputs": [],
   "execution_count": null
  },
  {
   "metadata": {},
   "cell_type": "code",
   "source": [
    "\n",
    "val response = embeddingModel.embed(firstDish)\n",
    "val embedding:Embedding = response.content()\n",
    "embedding.dimension()\n"
   ],
   "outputs": [],
   "execution_count": null
  },
  {
   "metadata": {},
   "cell_type": "code",
   "source": "embedding.vector()",
   "outputs": [],
   "execution_count": null
  },
  {
   "metadata": {},
   "cell_type": "code",
   "source": "response.tokenUsage()",
   "outputs": [],
   "execution_count": null
  },
  {
   "metadata": {},
   "cell_type": "markdown",
   "source": "### Similarity between Vectors"
  },
  {
   "metadata": {},
   "cell_type": "code",
   "source": [
    "infix fun String.similarityWith(text2: String): Double {\n",
    "    val inputOne: Embedding = embeddingModel.embed(this).content()\n",
    "    val inputTwo: Embedding = embeddingModel.embed(text2).content()\n",
    "    return CosineSimilarity.between(inputOne, inputTwo)\n",
    "}\n"
   ],
   "outputs": [],
   "execution_count": null
  },
  {
   "metadata": {},
   "cell_type": "code",
   "source": "\"Seafood\" similarityWith \"Lobster\"",
   "outputs": [],
   "execution_count": null
  },
  {
   "metadata": {
    "jupyter": {
     "is_executing": true
    }
   },
   "cell_type": "code",
   "source": "\"Seafood with Spaghetti\" similarityWith \"Lobster with Pasta\"",
   "outputs": [],
   "execution_count": null
  },
  {
   "metadata": {},
   "cell_type": "markdown",
   "source": "### Create Documents to be Vectorized"
  },
  {
   "metadata": {},
   "cell_type": "code",
   "source": [
    "import com.fasterxml.jackson.module.kotlin.readValue\n",
    "import dev.langchain4j.data.document.*\n",
    "\n",
    "val documents = df.map {\n",
    "    runCatching {\n",
    "        val ingredients = Ingredients.replace(\"'\", \"\\\"\")\n",
    "        val content = \"\"\"${Name} ${Category} ${mapper.readValue<List<List<String>>>(ingredients).map { it[0] }}\"\"\"\n",
    "        Document.document(content, Metadata(mapOf(\"Category\" to Category, \"Ingredients\" to Ingredients)))\n",
    "    }.getOrNull()\n",
    "}.filterNotNull()\n",
    "documents"
   ],
   "outputs": [],
   "execution_count": null
  },
  {
   "metadata": {},
   "cell_type": "markdown",
   "source": "### Ingest Documents into EmbeddingStore"
  },
  {
   "metadata": {},
   "cell_type": "code",
   "source": [
    "import dev.langchain4j.model.embedding.onnx.allminilml6v2.AllMiniLmL6V2EmbeddingModel\n",
    "import dev.langchain4j.store.embedding.EmbeddingStoreIngestor\n",
    "\n",
    "val embeddingStore: EmbeddingStore<TextSegment> = \n",
    "    PgVectorEmbeddingStore.builder()\n",
    "        .host(host)\n",
    "        .port(port)\n",
    "        .user(user)\n",
    "        .password(password)\n",
    "        .database(\"langchain\")\n",
    "        .table(\"italianfood\")\n",
    "        .dimension(384)\n",
    "        .dropTableFirst(true)\n",
    "        .build();\n",
    "\n",
    "\n",
    "\n",
    "val ingestor = EmbeddingStoreIngestor.builder()\n",
    "    .embeddingModel(embeddingModel)\n",
    "    .embeddingStore(embeddingStore)\n",
    "    .build()"
   ],
   "outputs": [],
   "execution_count": null
  },
  {
   "metadata": {},
   "cell_type": "code",
   "source": [
    "val rows = df.size().nrow\n",
    "documents.withIndex().forEach {(idx, doc) -> \n",
    "    ingestor.ingest(doc);\n",
    "    if(idx % 20 == 0) {\n",
    "        println(\"Ingested: $idx / $rows\")\n",
    "    }\n",
    "}\n",
    "println(\"ingested: $rows / $rows\")"
   ],
   "outputs": [],
   "execution_count": null
  },
  {
   "metadata": {},
   "cell_type": "markdown",
   "source": "### ...and now we can do: Similarity Search!"
  },
  {
   "metadata": {},
   "cell_type": "code",
   "source": [
    "import org.jetbrains.kotlinx.dataframe.codeGen.generateInterfaces\n",
    "\n",
    "val url = \"jdbc:postgresql://$host:$port/langchain\"\n",
    "val dbConfig = DatabaseConfiguration(url, user, password)\n",
    "val tableName = \"italianfood\"\n",
    "\n",
    "val dbDf = DataFrame.readSqlTable(dbConfig, tableName, 100)\n",
    "dbDf.select(\"text\", \"embedding\")"
   ],
   "outputs": [],
   "execution_count": null
  },
  {
   "metadata": {},
   "cell_type": "code",
   "source": [
    "import org.intellij.lang.annotations.Language\n",
    "\n",
    "val maxResults = 5\n",
    "val minScore = 0.7\n",
    "\n",
    "\n",
    "val prompt = \"a dish with noodles, seafood, mozzarella cheese and tomato sauce\"\n",
    "val promptAsVector = java.util.Arrays.toString(embeddingModel.embed(prompt).content().vector())\n",
    "\n",
    "//Welcome to the <=> 'cosine similarity' operator! It also supports inner product (<#>) and L1 distance (<+>)\n",
    "val query = \"\"\"SELECT * from (WITH temp AS (SELECT (2 - (embedding <=> '%s')) / 2 AS score, embedding_id, embedding, text, metadata FROM %s) SELECT * FROM temp WHERE score >= %s ORDER BY score desc LIMIT %s) as result\"\"\"\n",
    "    .format(promptAsVector, tableName, minScore, maxResults)\n",
    "\n",
    "DataFrame.readSqlQuery(dbConfig, query).select(\"text\", \"score\")\n",
    "\n"
   ],
   "outputs": [],
   "execution_count": null
  }
 ],
 "metadata": {
  "kernelspec": {
   "display_name": "Kotlin",
   "language": "kotlin",
   "name": "kotlin"
  },
  "language_info": {
   "name": "kotlin",
   "version": "1.9.23",
   "mimetype": "text/x-kotlin",
   "file_extension": ".kt",
   "pygments_lexer": "kotlin",
   "codemirror_mode": "text/x-kotlin",
   "nbconvert_exporter": ""
  },
  "ktnbPluginMetadata": {
   "projectDependencies": [
    "langchain4j.main"
   ],
   "projectLibraries": false
  }
 },
 "nbformat": 4,
 "nbformat_minor": 0
}
