{
 "cells": [
  {
   "metadata": {},
   "cell_type": "markdown",
   "source": [
    "### Data Ingestion with LangChain4j\n",
    "<img src=\"https://docs.langchain4j.dev/img/logo.svg\" alt=\"LangChain4J\" width=\"200\" height=\"200\">"
   ]
  },
  {
   "cell_type": "code",
   "metadata": {
    "collapsed": true,
    "ExecuteTime": {
     "end_time": "2025-05-16T08:34:25.823330Z",
     "start_time": "2025-05-16T08:34:24.462576Z"
    }
   },
   "source": [
    "%use dataframe\n",
    "%useLatestDescriptors\n",
    "\n",
    "import com.fasterxml.jackson.module.kotlin.jacksonObjectMapper\n",
    "import com.fasterxml.jackson.module.kotlin.readValue\n",
    "import dev.langchain4j.data.segment.TextSegment\n",
    "import dev.langchain4j.store.embedding.EmbeddingStore\n",
    "import dev.langchain4j.store.embedding.pgvector.PgVectorEmbeddingStore\n",
    "import dev.langchain4j.model.embedding.*\n",
    "import dev.langchain4j.model.embedding.onnx.allminilml6v2.AllMiniLmL6V2EmbeddingModel\n",
    "import dev.langchain4j.data.embedding.*\n",
    "import dev.langchain4j.store.embedding.*\n",
    "import java.util.Arrays\n"
   ],
   "outputs": [],
   "execution_count": 56
  },
  {
   "metadata": {
    "ExecuteTime": {
     "end_time": "2025-05-16T08:34:26.664196Z",
     "start_time": "2025-05-16T08:34:26.606903Z"
    }
   },
   "cell_type": "code",
   "source": [
    "\n",
    "val host = \"localhost\"\n",
    "val port = 5431\n",
    "val user = \"user\"\n",
    "val password = \"password\"\n",
    "val mapper = jacksonObjectMapper()\n"
   ],
   "outputs": [],
   "execution_count": 57
  },
  {
   "metadata": {},
   "cell_type": "markdown",
   "source": "### Embedding Models"
  },
  {
   "metadata": {},
   "cell_type": "code",
   "source": "val embeddingModel = AllMiniLmL6V2EmbeddingModel()",
   "outputs": [],
   "execution_count": null
  },
  {
   "metadata": {},
   "cell_type": "code",
   "source": [
    "\n",
    "val response = embeddingModel.embed(\"I love Pasta\")\n",
    "val embedding:Embedding = response.content()\n",
    "embedding.dimension()\n"
   ],
   "outputs": [],
   "execution_count": null
  },
  {
   "metadata": {},
   "cell_type": "code",
   "source": "embedding.vector()",
   "outputs": [],
   "execution_count": null
  },
  {
   "metadata": {},
   "cell_type": "code",
   "source": "response.tokenUsage()",
   "outputs": [],
   "execution_count": null
  },
  {
   "metadata": {},
   "cell_type": "markdown",
   "source": "### Similarity between Vectors"
  },
  {
   "metadata": {},
   "cell_type": "code",
   "source": [
    "infix fun String.similarityWith(text2: String): Double {\n",
    "    val inputOne: Embedding = embeddingModel.embed(this).content()\n",
    "    val inputTwo: Embedding = embeddingModel.embed(text2).content()\n",
    "    return CosineSimilarity.between(inputOne, inputTwo)\n",
    "}\n"
   ],
   "outputs": [],
   "execution_count": null
  },
  {
   "metadata": {},
   "cell_type": "code",
   "source": "\"Seafood\" similarityWith \"Lobster\"",
   "outputs": [],
   "execution_count": null
  },
  {
   "metadata": {},
   "cell_type": "code",
   "source": "\"Seafood with Spaghetti\" similarityWith \"Lobster with Pasta\"",
   "outputs": [],
   "execution_count": null
  },
  {
   "metadata": {},
   "cell_type": "markdown",
   "source": "### Create Documents to be Vectorized"
  },
  {
   "metadata": {
    "ExecuteTime": {
     "end_time": "2025-05-16T08:35:11.693165Z",
     "start_time": "2025-05-16T08:35:11.536062Z"
    }
   },
   "cell_type": "code",
   "source": "HTML(\"\"\"<div style=\"display: grid;place-items: center;height: 100%;\"><iframe src=\"https://docs.google.com/presentation/d/e/2PACX-1vRk0-cZuYUfBCM5xNpSEW2vjDsw-w1Nc5O_x_D-gNdQPIWmwTVzgMw-dXmf2j5d7ICSokODpH4hTyvQ/pubembed?slide=id.g30e9d87f2d1_0_305&start=false&loop=false&delayms=1000\" frameborder=\"0\" width=\"900\" height=\"749\" allowfullscreen=\"true\" mozallowfullscreen=\"true\" webkitallowfullscreen=\"true\"></iframe></div>\"\"\")",
   "outputs": [
    {
     "data": {
      "text/html": [
       "<div style=\"display: grid;place-items: center;height: 100%;\"><iframe src=\"https://docs.google.com/presentation/d/e/2PACX-1vRk0-cZuYUfBCM5xNpSEW2vjDsw-w1Nc5O_x_D-gNdQPIWmwTVzgMw-dXmf2j5d7ICSokODpH4hTyvQ/pubembed?slide=id.g30e9d87f2d1_0_305&start=false&loop=false&delayms=1000\" frameborder=\"0\" width=\"900\" height=\"749\" allowfullscreen=\"true\" mozallowfullscreen=\"true\" webkitallowfullscreen=\"true\"></iframe></div>"
      ]
     },
     "execution_count": 58,
     "metadata": {},
     "output_type": "execute_result"
    }
   ],
   "execution_count": 58
  },
  {
   "metadata": {},
   "cell_type": "code",
   "source": [
    "import org.jetbrains.kotlinx.dataframe.codeGen.generateCode\n",
    "val df = DataFrame.read(\"src/main/resources/food/italian_delaight_dishes.csv\")\n",
    "df.generateCode()\n",
    "df.head()"
   ],
   "outputs": [],
   "execution_count": null
  },
  {
   "metadata": {},
   "cell_type": "code",
   "source": [
    "import com.fasterxml.jackson.module.kotlin.readValue\n",
    "import dev.langchain4j.data.document.*\n",
    "\n",
    "val documents = df.map {\n",
    "    runCatching {\n",
    "        val ingredients = Ingredients.replace(\"'\", \"\\\"\")\n",
    "        val content = \"\"\"${Name} ${mapper.readValue<List<List<String>>>(ingredients).map { it[0] }}\"\"\"\n",
    "        Document.document(content, Metadata(mapOf(\"Category\" to Category, \"Ingredients\" to Ingredients)))\n",
    "    }.getOrNull()\n",
    "}.filterNotNull()\n",
    "documents.map { it.text() }.take(10).joinToString(separator = \"\\n\"){\"- $it\"}"
   ],
   "outputs": [],
   "execution_count": null
  },
  {
   "metadata": {},
   "cell_type": "markdown",
   "source": "### Ingest Documents into EmbeddingStore"
  },
  {
   "metadata": {},
   "cell_type": "code",
   "source": [
    "import dev.langchain4j.model.embedding.onnx.allminilml6v2.AllMiniLmL6V2EmbeddingModel\n",
    "import dev.langchain4j.store.embedding.EmbeddingStoreIngestor\n",
    "\n",
    "val embeddingStore: EmbeddingStore<TextSegment> = \n",
    "    PgVectorEmbeddingStore.builder()\n",
    "        .host(host)\n",
    "        .port(port)\n",
    "        .user(user)\n",
    "        .password(password)\n",
    "        .database(\"langchain\")\n",
    "        .table(\"italianfood\")\n",
    "        .dimension(384)\n",
    "        .dropTableFirst(true)\n",
    "        .build();\n",
    "\n",
    "val ingestor = EmbeddingStoreIngestor.builder()\n",
    "    .embeddingModel(embeddingModel)\n",
    "    .embeddingStore(embeddingStore)\n",
    "    .build()"
   ],
   "outputs": [],
   "execution_count": null
  },
  {
   "metadata": {},
   "cell_type": "code",
   "source": [
    "val rows = df.size().nrow\n",
    "documents.withIndex().forEach {(idx, doc) -> \n",
    "    ingestor.ingest(doc);\n",
    "    if(idx % 20 == 0) {\n",
    "        println(\"Ingested: $idx / $rows\")\n",
    "    }\n",
    "}\n",
    "println(\"ingested: $rows / $rows\")"
   ],
   "outputs": [],
   "execution_count": null
  },
  {
   "metadata": {},
   "cell_type": "markdown",
   "source": "### ...and now we can do: Similarity Search!"
  },
  {
   "metadata": {},
   "cell_type": "code",
   "source": [
    "import org.jetbrains.kotlinx.dataframe.codeGen.generateInterfaces\n",
    "\n",
    "val url = \"jdbc:postgresql://$host:$port/langchain\"\n",
    "val dbConfig = DatabaseConfiguration(url, user, password)\n",
    "val tableName = \"italianfood\"\n",
    "\n",
    "val dbDf = DataFrame.readSqlTable(dbConfig, tableName, 100)\n",
    "dbDf.select(\"text\", \"embedding\")"
   ],
   "outputs": [],
   "execution_count": null
  },
  {
   "metadata": {},
   "cell_type": "code",
   "source": [
    "import org.intellij.lang.annotations.Language\n",
    "\n",
    "val maxResults = 5\n",
    "val minScore = 0.82\n",
    "\n",
    "\n",
    "\n",
    "val prompt = \"a dish with noodles, seafood, mozzarella cheese and tomato sauce\"\n",
    "val promptAsVector = java.util.Arrays.toString(embeddingModel.embed(prompt).content().vector())\n",
    "\n",
    "//Welcome to the <=> 'cosine similarity' operator! It also supports inner product (<#>) and L1 distance (<+>)\n",
    "val query = \"\"\"SELECT * from (WITH temp AS (SELECT (2 - (embedding <=> '%s')) / 2 AS score, embedding_id, embedding, text, metadata FROM %s) SELECT * FROM temp WHERE score >= %s ORDER BY score desc LIMIT %s) as result\"\"\"\n",
    "    .format(promptAsVector, tableName, minScore, maxResults)\n",
    "\n",
    "DataFrame.readSqlQuery(dbConfig, query).select(\"text\", \"score\")\n",
    "\n"
   ],
   "outputs": [],
   "execution_count": null
  }
 ],
 "metadata": {
  "kernelspec": {
   "display_name": "Kotlin",
   "language": "kotlin",
   "name": "kotlin"
  },
  "language_info": {
   "name": "kotlin",
   "version": "1.9.23",
   "mimetype": "text/x-kotlin",
   "file_extension": ".kt",
   "pygments_lexer": "kotlin",
   "codemirror_mode": "text/x-kotlin",
   "nbconvert_exporter": ""
  },
  "ktnbPluginMetadata": {
   "projectDependencies": [
    "langchain4j.main"
   ],
   "projectLibraries": false
  }
 },
 "nbformat": 4,
 "nbformat_minor": 0
}
