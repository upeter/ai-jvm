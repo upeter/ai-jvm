{
 "cells": [
  {
   "cell_type": "code",
   "metadata": {
    "collapsed": true,
    "ExecuteTime": {
     "end_time": "2024-09-09T12:31:29.166079Z",
     "start_time": "2024-09-09T12:31:20.585871Z"
    }
   },
   "source": [
    "import dev.example.food.*\n",
    "import dev.langchain4j.model.*\n",
    "import dev.langchain4j.model.embedding.*\n",
    "import dev.langchain4j.data.embedding.*\n",
    "import dev.langchain4j.store.embedding.*\n",
    "import dev.langchain4j.model.embedding.onnx.allminilml6v2.*\n",
    "import org.jetbrains.kotlinx.dataframe.api.dataFrameOf\n",
    "%use dataframe\n",
    "%use lets-plot\n",
    "%use lets-plot-gt\n",
    "%useLatestDescriptors\n"
   ],
   "outputs": [
    {
     "data": {
      "text/html": [
       "   <div id=\"8XHRdX\"></div>\n",
       "   <script type=\"text/javascript\" data-lets-plot-script=\"library\">\n",
       "       if(!window.letsPlotCallQueue) {\n",
       "           window.letsPlotCallQueue = [];\n",
       "       }; \n",
       "       window.letsPlotCall = function(f) {\n",
       "           window.letsPlotCallQueue.push(f);\n",
       "       };\n",
       "       (function() {\n",
       "           var script = document.createElement(\"script\");\n",
       "           script.type = \"text/javascript\";\n",
       "           script.src = \"https://cdn.jsdelivr.net/gh/JetBrains/lets-plot@v4.4.1/js-package/distr/lets-plot.min.js\";\n",
       "           script.onload = function() {\n",
       "               window.letsPlotCall = function(f) {f();};\n",
       "               window.letsPlotCallQueue.forEach(function(f) {f();});\n",
       "               window.letsPlotCallQueue = [];\n",
       "               \n",
       "               \n",
       "           };\n",
       "           script.onerror = function(event) {\n",
       "               window.letsPlotCall = function(f) {};\n",
       "               window.letsPlotCallQueue = [];\n",
       "               var div = document.createElement(\"div\");\n",
       "               div.style.color = 'darkred';\n",
       "               div.textContent = 'Error loading Lets-Plot JS';\n",
       "               document.getElementById(\"8XHRdX\").appendChild(div);\n",
       "           };\n",
       "           var e = document.getElementById(\"8XHRdX\");\n",
       "           e.appendChild(script);\n",
       "       })();\n",
       "   </script>"
      ]
     },
     "metadata": {},
     "output_type": "display_data"
    }
   ],
   "execution_count": 58
  },
  {
   "metadata": {},
   "cell_type": "markdown",
   "source": "### Embeddings"
  },
  {
   "metadata": {
    "ExecuteTime": {
     "end_time": "2024-09-09T09:57:13.158556Z",
     "start_time": "2024-09-09T09:57:13.133992Z"
    }
   },
   "cell_type": "code",
   "source": [
    "import dev.langchain4j.model.embedding.onnx.bgesmallzhv15q.BgeSmallZhV15QuantizedEmbeddingModel\n",
    "val embeddingModel: EmbeddingModel =   BgeSmallZhV15QuantizedEmbeddingModel()\n"
   ],
   "outputs": [],
   "execution_count": 52
  },
  {
   "metadata": {
    "ExecuteTime": {
     "end_time": "2024-09-09T09:57:14.595521Z",
     "start_time": "2024-09-09T09:57:14.559340Z"
    }
   },
   "cell_type": "code",
   "source": [
    "val response = embeddingModel.embed(\"kingdom\")\n",
    "val embedding:Embedding = response.content()\n",
    "embedding.dimension()\n",
    "//response.tokenUsage()"
   ],
   "outputs": [
    {
     "data": {
      "text/plain": [
       "512"
      ]
     },
     "execution_count": 53,
     "metadata": {},
     "output_type": "execute_result"
    }
   ],
   "execution_count": 53
  },
  {
   "metadata": {},
   "cell_type": "markdown",
   "source": "### Consine Similarity"
  },
  {
   "metadata": {
    "ExecuteTime": {
     "end_time": "2024-09-09T09:55:13.674534Z",
     "start_time": "2024-09-09T09:55:13.634027Z"
    }
   },
   "cell_type": "code",
   "source": [
    "val embeddingModel = AllMiniLmL6V2EmbeddingModel()\n",
    "infix fun String.similarityTo(text: String): Double {\n",
    "    val inputOne: Embedding = embeddingModel.embed(this).content()\n",
    "    val inputTwo: Embedding = embeddingModel.embed(text).content()\n",
    "    return CosineSimilarity.between(inputOne, inputTwo)\n",
    "}\n"
   ],
   "outputs": [],
   "execution_count": 41
  },
  {
   "metadata": {
    "ExecuteTime": {
     "end_time": "2024-09-09T09:55:18.904228Z",
     "start_time": "2024-09-09T09:55:18.875788Z"
    }
   },
   "cell_type": "code",
   "source": [
    "\n",
    "\"king\".similarityTo(\"monarch\")"
   ],
   "outputs": [
    {
     "data": {
      "text/plain": [
       "0.7360189855453844"
      ]
     },
     "execution_count": 43,
     "metadata": {},
     "output_type": "execute_result"
    }
   ],
   "execution_count": 43
  },
  {
   "metadata": {
    "ExecuteTime": {
     "end_time": "2024-09-09T11:25:21.853509Z",
     "start_time": "2024-09-09T11:25:21.824288Z"
    }
   },
   "cell_type": "code",
   "source": "\"the king is in the capital\".similarityTo(\"the king is on the city\")\n",
   "outputs": [
    {
     "data": {
      "text/plain": [
       "0.7520048821624081"
      ]
     },
     "execution_count": 55,
     "metadata": {},
     "output_type": "execute_result"
    }
   ],
   "execution_count": 55
  },
  {
   "metadata": {},
   "cell_type": "markdown",
   "source": "### Similarity Search"
  },
  {
   "metadata": {
    "ExecuteTime": {
     "end_time": "2024-09-09T12:31:05.378838Z",
     "start_time": "2024-09-09T12:31:04.594177Z"
    }
   },
   "cell_type": "code",
   "source": [
    "\n",
    "val url = \"jdbc:postgresql://localhost:5431/langchain\"\n",
    "val username = \"user\"\n",
    "val password = \"password\"\n",
    "\n",
    "val dbConfig = DatabaseConfiguration(url, username, password)\n",
    "\n",
    "val tableName = \"italianfood\"\n",
    "\n",
    "val df = DataFrame.readSqlTable(dbConfig, tableName, 100)\n",
    "\n"
   ],
   "outputs": [],
   "execution_count": 56
  },
  {
   "metadata": {
    "ExecuteTime": {
     "end_time": "2024-09-09T12:31:51.601073Z",
     "start_time": "2024-09-09T12:31:51.434016Z"
    }
   },
   "cell_type": "code",
   "source": [
    "val referenceVector = java.util.Arrays.toString(embeddingModel.embed(\"Dessert with Berries, Cream and Chocolate\").content().vector())\n",
    "val query = \"\"\"SELECT * from (WITH temp AS (SELECT (2 - (embedding <=> '%s')) / 2 AS score, embedding_id, embedding, text, metadata FROM %s) SELECT * FROM temp WHERE score >= %s ORDER BY score desc LIMIT %s) as result\"\"\".format(\n",
    "    referenceVector, \"italianfood\", 0.6, 7\n",
    ")\n",
    "\n",
    "DataFrame.readSqlQuery(dbConfig, query).select(\"text\", \"score\").print(valueLimit = 100)\n",
    "\n"
   ],
   "outputs": [
    {
     "ename": "org.postgresql.util.PSQLException",
     "evalue": "ERROR: different vector dimensions 384 and 512",
     "output_type": "error",
     "traceback": [
      "org.postgresql.util.PSQLException: ERROR: different vector dimensions 384 and 512",
      "\tat org.postgresql.core.v3.QueryExecutorImpl.receiveErrorResponse(QueryExecutorImpl.java:2713)",
      "\tat org.postgresql.core.v3.QueryExecutorImpl.processResults(QueryExecutorImpl.java:2401)",
      "\tat org.postgresql.core.v3.QueryExecutorImpl.execute(QueryExecutorImpl.java:368)",
      "\tat org.postgresql.jdbc.PgStatement.executeInternal(PgStatement.java:498)",
      "\tat org.postgresql.jdbc.PgStatement.execute(PgStatement.java:415)",
      "\tat org.postgresql.jdbc.PgStatement.executeWithFlags(PgStatement.java:335)",
      "\tat org.postgresql.jdbc.PgStatement.executeCachedSql(PgStatement.java:321)",
      "\tat org.postgresql.jdbc.PgStatement.executeWithFlags(PgStatement.java:297)",
      "\tat org.postgresql.jdbc.PgStatement.executeQuery(PgStatement.java:246)",
      "\tat org.jetbrains.kotlinx.dataframe.io.ReadJdbcKt.readSqlQuery(readJdbc.kt:203)",
      "\tat org.jetbrains.kotlinx.dataframe.io.ReadJdbcKt.readSqlQuery(readJdbc.kt:170)",
      "\tat org.jetbrains.kotlinx.dataframe.io.ReadJdbcKt.readSqlQuery$default(readJdbc.kt:164)",
      "\tat Line_93_jupyter.<init>(Line_93.jupyter.kts:6) at Cell In[60], line 6",
      "\tat java.base/jdk.internal.reflect.DirectConstructorHandleAccessor.newInstance(DirectConstructorHandleAccessor.java:62)",
      "\tat java.base/java.lang.reflect.Constructor.newInstanceWithCaller(Constructor.java:502)",
      "\tat java.base/java.lang.reflect.Constructor.newInstance(Constructor.java:486)",
      "\tat kotlin.script.experimental.jvm.BasicJvmScriptEvaluator.evalWithConfigAndOtherScriptsResults(BasicJvmScriptEvaluator.kt:122)",
      "\tat kotlin.script.experimental.jvm.BasicJvmScriptEvaluator.invoke$suspendImpl(BasicJvmScriptEvaluator.kt:48)",
      "\tat kotlin.script.experimental.jvm.BasicJvmScriptEvaluator.invoke(BasicJvmScriptEvaluator.kt)",
      "\tat kotlin.script.experimental.jvm.BasicJvmReplEvaluator.eval(BasicJvmReplEvaluator.kt:49)",
      "\tat org.jetbrains.kotlinx.jupyter.repl.impl.InternalEvaluatorImpl$eval$resultWithDiagnostics$1.invokeSuspend(InternalEvaluatorImpl.kt:133)",
      "\tat kotlin.coroutines.jvm.internal.BaseContinuationImpl.resumeWith(ContinuationImpl.kt:33)",
      "\tat kotlinx.coroutines.DispatchedTask.run(DispatchedTask.kt:104)",
      "\tat kotlinx.coroutines.EventLoopImplBase.processNextEvent(EventLoop.common.kt:277)",
      "\tat kotlinx.coroutines.BlockingCoroutine.joinBlocking(Builders.kt:95)",
      "\tat kotlinx.coroutines.BuildersKt__BuildersKt.runBlocking(Builders.kt:69)",
      "\tat kotlinx.coroutines.BuildersKt.runBlocking(Unknown Source)",
      "\tat kotlinx.coroutines.BuildersKt__BuildersKt.runBlocking$default(Builders.kt:48)",
      "\tat kotlinx.coroutines.BuildersKt.runBlocking$default(Unknown Source)",
      "\tat org.jetbrains.kotlinx.jupyter.repl.impl.InternalEvaluatorImpl.eval(InternalEvaluatorImpl.kt:133)",
      "\tat org.jetbrains.kotlinx.jupyter.repl.impl.CellExecutorImpl$execute$1$result$1.invoke(CellExecutorImpl.kt:80)",
      "\tat org.jetbrains.kotlinx.jupyter.repl.impl.CellExecutorImpl$execute$1$result$1.invoke(CellExecutorImpl.kt:78)",
      "\tat org.jetbrains.kotlinx.jupyter.repl.impl.ReplForJupyterImpl.withHost(ReplForJupyterImpl.kt:738)",
      "\tat org.jetbrains.kotlinx.jupyter.repl.impl.CellExecutorImpl.execute-L4Nmkdk(CellExecutorImpl.kt:78)",
      "\tat org.jetbrains.kotlinx.jupyter.repl.execution.CellExecutor$DefaultImpls.execute-L4Nmkdk$default(CellExecutor.kt:13)",
      "\tat org.jetbrains.kotlinx.jupyter.repl.impl.ReplForJupyterImpl.evaluateUserCode-wNURfNM(ReplForJupyterImpl.kt:561)",
      "\tat org.jetbrains.kotlinx.jupyter.repl.impl.ReplForJupyterImpl.access$evaluateUserCode-wNURfNM(ReplForJupyterImpl.kt:139)",
      "\tat org.jetbrains.kotlinx.jupyter.repl.impl.ReplForJupyterImpl$evalEx$1.invoke(ReplForJupyterImpl.kt:418)",
      "\tat org.jetbrains.kotlinx.jupyter.repl.impl.ReplForJupyterImpl$evalEx$1.invoke(ReplForJupyterImpl.kt:415)",
      "\tat org.jetbrains.kotlinx.jupyter.repl.impl.ReplForJupyterImpl.withEvalContext(ReplForJupyterImpl.kt:396)",
      "\tat org.jetbrains.kotlinx.jupyter.repl.impl.ReplForJupyterImpl.evalEx(ReplForJupyterImpl.kt:415)",
      "\tat org.jetbrains.kotlinx.jupyter.messaging.IdeCompatibleMessageRequestProcessor$processExecuteRequest$1$response$1$1.invoke(IdeCompatibleMessageRequestProcessor.kt:136)",
      "\tat org.jetbrains.kotlinx.jupyter.messaging.IdeCompatibleMessageRequestProcessor$processExecuteRequest$1$response$1$1.invoke(IdeCompatibleMessageRequestProcessor.kt:135)",
      "\tat org.jetbrains.kotlinx.jupyter.execution.JupyterExecutorImpl$Task.execute(JupyterExecutorImpl.kt:42)",
      "\tat org.jetbrains.kotlinx.jupyter.execution.JupyterExecutorImpl$executorThread$1.invoke(JupyterExecutorImpl.kt:82)",
      "\tat org.jetbrains.kotlinx.jupyter.execution.JupyterExecutorImpl$executorThread$1.invoke(JupyterExecutorImpl.kt:80)",
      "\tat kotlin.concurrent.ThreadsKt$thread$thread$1.run(Thread.kt:30)",
      "",
      "org.postgresql.util.PSQLException: ERROR: different vector dimensions 384 and 512",
      "at Cell In[60], line 6",
      ""
     ]
    }
   ],
   "execution_count": 60
  },
  {
   "metadata": {
    "ExecuteTime": {
     "end_time": "2024-08-19T11:57:12.343044Z",
     "start_time": "2024-08-19T11:57:12.033607Z"
    }
   },
   "cell_type": "code",
   "source": "",
   "outputs": [
    {
     "name": "stdout",
     "output_type": "stream",
     "text": [
      "{Index=[[0, 1, 2, 3, 4]], Vector1=[[1, 2, 3, 4, 5]], Vector2=[[5, 4, 3, 2, 1]], Color1=[[red, blue, green, yellow, purple]], Color2=[[red, blue, green, yellow, purple]]}\n"
     ]
    },
    {
     "data": {
      "text/html": [
       "   <div id=\"PfgdlN\"></div>\n",
       "   <script type=\"text/javascript\" data-lets-plot-script=\"plot\">\n",
       "       (function() {\n",
       "           var plotSpec={\n",
       "\"__error_message\":\"Can't convert to color: 'Color1' (String)\"\n",
       "};\n",
       "           var plotContainer = document.getElementById(\"PfgdlN\");\n",
       "           window.letsPlotCall(function() {{\n",
       "               LetsPlot.buildPlotFromProcessedSpecs(plotSpec, -1, -1, plotContainer);\n",
       "           }});\n",
       "       })();\n",
       "   </script>"
      ]
     },
     "execution_count": 7,
     "metadata": {},
     "output_type": "execute_result"
    }
   ],
   "execution_count": 7
  },
  {
   "metadata": {
    "ExecuteTime": {
     "end_time": "2024-08-19T12:11:42.862274Z",
     "start_time": "2024-08-19T12:11:42.599185Z"
    }
   },
   "cell_type": "code",
   "source": [
    "import kotlin.math.sqrt\n",
    "//https://kindgeek.com/blog/post/experiments-with-langchain4j-or-java-way-to-llm-powered-applications\n",
    "\n",
    "// Sample dataset\n",
    "val data = listOf(\n",
    "    Pair(1.0, 1.0),\n",
    "    Pair(2.0, 2.0),\n",
    "    Pair(3.0, 3.0),\n",
    "    Pair(4.0, 4.0),\n",
    "    Pair(5.0, 5.0)\n",
    ")\n",
    "\n",
    "// Function to calculate Euclidean distance\n",
    "fun euclideanDistance(p1: Pair<Double, Double>, p2: Pair<Double, Double>): Double {\n",
    "    return sqrt((p1.first - p2.first).pow(2) + (p1.second - p2.second).pow(2))\n",
    "}\n",
    "\n",
    "// Function to find k-nearest neighbors\n",
    "fun kNearestNeighbors(data: List<Pair<Double, Double>>, point: Pair<Double, Double>, k: Int): List<Pair<Double, Double>> {\n",
    "    return data.sortedBy { euclideanDistance(it, point) }.take(k)\n",
    "}\n",
    "\n",
    "// Define the point to find neighbors for\n",
    "val point = Pair(3.5, 3.5)\n",
    "val k = 3\n",
    "\n",
    "// Find k-nearest neighbors\n",
    "val neighbors = kNearestNeighbors(data, point, k)\n",
    "\n",
    "// Create a DataFrame for the dataset\n",
    "val df = dataFrameOf(\"x\", \"y\")(\n",
    "    data.map { it.first },\n",
    "    data.map { it.second }\n",
    ")\n",
    "\n",
    "// Create a DataFrame for the neighbors\n",
    "val neighborsDf = dataFrameOf(\"x\", \"y\")(\n",
    "    neighbors.map { it.first },\n",
    "    neighbors.map { it.second }\n",
    ")\n",
    "\n",
    "// Plot the dataset and the neighbors\n",
    "val plot = letsPlot(df.toMap()) +\n",
    "        geomPoint(color = \"blue\", size = 3.0) { x = \"x\"; y = \"y\" } +\n",
    "        geomPoint(data = neighborsDf.toMap(), color = \"red\", size = 5.0) { x = \"x\"; y = \"y\" } +\n",
    "        geomPoint(data = mapOf(\"x\" to listOf(point.first), \"y\" to listOf(point.second)), color = \"green\", size = 5.0) { x = \"x\"; y = \"y\" }\n",
    "\n",
    "plot"
   ],
   "outputs": [
    {
     "data": {
      "text/html": [
       "   <div id=\"AAmogD\"></div>\n",
       "   <script type=\"text/javascript\" data-lets-plot-script=\"plot\">\n",
       "       (function() {\n",
       "           var plotSpec={\n",
       "\"mapping\":{\n",
       "},\n",
       "\"data\":{\n",
       "\"x\":[[1.0,2.0,3.0,4.0,5.0]],\n",
       "\"y\":[[1.0,2.0,3.0,4.0,5.0]]\n",
       "},\n",
       "\"kind\":\"plot\",\n",
       "\"scales\":[],\n",
       "\"layers\":[{\n",
       "\"mapping\":{\n",
       "\"x\":\"x\",\n",
       "\"y\":\"y\"\n",
       "},\n",
       "\"stat\":\"identity\",\n",
       "\"color\":\"blue\",\n",
       "\"size\":3.0,\n",
       "\"position\":\"identity\",\n",
       "\"geom\":\"point\",\n",
       "\"data\":{\n",
       "}\n",
       "},{\n",
       "\"mapping\":{\n",
       "\"x\":\"x\",\n",
       "\"y\":\"y\"\n",
       "},\n",
       "\"stat\":\"identity\",\n",
       "\"data\":{\n",
       "\"x\":[[3.0,4.0,2.0]],\n",
       "\"y\":[[3.0,4.0,2.0]]\n",
       "},\n",
       "\"color\":\"red\",\n",
       "\"size\":5.0,\n",
       "\"position\":\"identity\",\n",
       "\"geom\":\"point\"\n",
       "},{\n",
       "\"mapping\":{\n",
       "\"x\":\"x\",\n",
       "\"y\":\"y\"\n",
       "},\n",
       "\"stat\":\"identity\",\n",
       "\"data\":{\n",
       "\"x\":[3.5],\n",
       "\"y\":[3.5]\n",
       "},\n",
       "\"color\":\"green\",\n",
       "\"size\":5.0,\n",
       "\"position\":\"identity\",\n",
       "\"geom\":\"point\"\n",
       "}]\n",
       "};\n",
       "           var plotContainer = document.getElementById(\"AAmogD\");\n",
       "           window.letsPlotCall(function() {{\n",
       "               LetsPlot.buildPlotFromProcessedSpecs(plotSpec, -1, -1, plotContainer);\n",
       "           }});\n",
       "       })();\n",
       "   </script>"
      ]
     },
     "execution_count": 20,
     "metadata": {},
     "output_type": "execute_result"
    }
   ],
   "execution_count": 20
  }
 ],
 "metadata": {
  "kernelspec": {
   "display_name": "Kotlin",
   "language": "kotlin",
   "name": "kotlin"
  },
  "language_info": {
   "name": "kotlin",
   "version": "1.9.23",
   "mimetype": "text/x-kotlin",
   "file_extension": ".kt",
   "pygments_lexer": "kotlin",
   "codemirror_mode": "text/x-kotlin",
   "nbconvert_exporter": ""
  },
  "ktnbPluginMetadata": {
   "projectDependencies": [
    "langchain4j.main",
    "langchain4j.test"
   ]
  }
 },
 "nbformat": 4,
 "nbformat_minor": 0
}
