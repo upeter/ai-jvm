{
 "cells": [
  {
   "cell_type": "code",
   "metadata": {
    "collapsed": true,
    "ExecuteTime": {
     "end_time": "2024-08-19T12:11:30.843013Z",
     "start_time": "2024-08-19T12:11:24.271323Z"
    }
   },
   "source": [
    "import dev.example.food.*\n",
    "import dev.langchain4j.model.*\n",
    "import dev.langchain4j.model.embedding.*\n",
    "import dev.langchain4j.data.embedding.*\n",
    "import dev.langchain4j.store.embedding.*\n",
    "import dev.langchain4j.model.embedding.onnx.allminilml6v2.*\n",
    "import org.jetbrains.kotlinx.dataframe.api.dataFrameOf\n",
    "%use dataframe\n",
    "%use lets-plot\n",
    "%use lets-plot-gt\n",
    "%useLatestDescriptors\n"
   ],
   "outputs": [
    {
     "data": {
      "text/html": [
       "   <div id=\"DzXHhl\"></div>\n",
       "   <script type=\"text/javascript\" data-lets-plot-script=\"library\">\n",
       "       if(!window.letsPlotCallQueue) {\n",
       "           window.letsPlotCallQueue = [];\n",
       "       }; \n",
       "       window.letsPlotCall = function(f) {\n",
       "           window.letsPlotCallQueue.push(f);\n",
       "       };\n",
       "       (function() {\n",
       "           var script = document.createElement(\"script\");\n",
       "           script.type = \"text/javascript\";\n",
       "           script.src = \"https://cdn.jsdelivr.net/gh/JetBrains/lets-plot@v4.3.3/js-package/distr/lets-plot.min.js\";\n",
       "           script.onload = function() {\n",
       "               window.letsPlotCall = function(f) {f();};\n",
       "               window.letsPlotCallQueue.forEach(function(f) {f();});\n",
       "               window.letsPlotCallQueue = [];\n",
       "               \n",
       "               \n",
       "           };\n",
       "           script.onerror = function(event) {\n",
       "               window.letsPlotCall = function(f) {};\n",
       "               window.letsPlotCallQueue = [];\n",
       "               var div = document.createElement(\"div\");\n",
       "               div.style.color = 'darkred';\n",
       "               div.textContent = 'Error loading Lets-Plot JS';\n",
       "               document.getElementById(\"DzXHhl\").appendChild(div);\n",
       "           };\n",
       "           var e = document.getElementById(\"DzXHhl\");\n",
       "           e.appendChild(script);\n",
       "       })();\n",
       "   </script>"
      ]
     },
     "metadata": {},
     "output_type": "display_data"
    }
   ],
   "execution_count": 18
  },
  {
   "metadata": {
    "ExecuteTime": {
     "end_time": "2024-08-19T11:54:37.386848Z",
     "start_time": "2024-08-19T11:54:37.353764Z"
    }
   },
   "cell_type": "code",
   "source": [
    "val embeddingModel: EmbeddingModel =   AllMiniLmL6V2EmbeddingModel()//BgeSmallZhV15QuantizedEmbeddingModel() \n",
    "\n",
    "//https://kindgeek.com/blog/post/experiments-with-langchain4j-or-java-way-to-llm-powered-applications\n",
    "\n",
    "infix fun String.similarityTo(text: String): Double {\n",
    "    val inputOne: Embedding = embeddingModel.embed(this).content()\n",
    "    val inputTwo: Embedding = embeddingModel.embed(text).content()\n",
    "    \n",
    "    return CosineSimilarity.between(inputOne, inputTwo)\n",
    "}"
   ],
   "outputs": [
    {
     "name": "stderr",
     "output_type": "stream",
     "text": [
      "Line_93.jupyter.kts (5:11 - 17) This class shouldn't be used in Kotlin. Use kotlin.String instead.\n",
      "Line_93.jupyter.kts (5:37 - 43) This class shouldn't be used in Kotlin. Use kotlin.String instead.\n",
      "Line_93.jupyter.kts (6:46 - 51) None of the following functions can be called with the arguments supplied: \n",
      "public open fun embed(p0: TextSegment!): Response<Embedding!>! defined in dev.langchain4j.model.embedding.EmbeddingModel\n",
      "public open fun embed(p0: String!): Response<Embedding!>! defined in dev.langchain4j.model.embedding.EmbeddingModel\n",
      "Line_93.jupyter.kts (7:46 - 51) None of the following functions can be called with the arguments supplied: \n",
      "public open fun embed(p0: TextSegment!): Response<Embedding!>! defined in dev.langchain4j.model.embedding.EmbeddingModel\n",
      "public open fun embed(p0: String!): Response<Embedding!>! defined in dev.langchain4j.model.embedding.EmbeddingModel"
     ]
    }
   ],
   "execution_count": 41
  },
  {
   "metadata": {
    "ExecuteTime": {
     "end_time": "2024-08-16T15:40:21.189932Z",
     "start_time": "2024-08-16T15:40:21.093648Z"
    }
   },
   "cell_type": "code",
   "source": "\"Eggs\".similarityTo(\"egg\")",
   "outputs": [
    {
     "data": {
      "text/plain": [
       "0.9120824129867496"
      ]
     },
     "execution_count": 30,
     "metadata": {},
     "output_type": "execute_result"
    }
   ],
   "execution_count": 30
  },
  {
   "metadata": {
    "ExecuteTime": {
     "end_time": "2024-08-19T11:54:34.705084Z",
     "start_time": "2024-08-19T11:54:34.656916Z"
    }
   },
   "cell_type": "code",
   "source": [
    "val response = embeddingModel.embed(\"kingfisher\")\n",
    "val embedding:Embedding = response.content()\n",
    "embedding.dimension()\n",
    "response.tokenUsage()\n"
   ],
   "outputs": [
    {
     "data": {
      "text/plain": [
       "TokenUsage { inputTokenCount = 3, outputTokenCount = null, totalTokenCount = 3 }"
      ]
     },
     "execution_count": 40,
     "metadata": {},
     "output_type": "execute_result"
    }
   ],
   "execution_count": 40
  },
  {
   "metadata": {
    "ExecuteTime": {
     "end_time": "2024-08-19T11:54:31.509358Z",
     "start_time": "2024-08-19T11:54:31.324758Z"
    }
   },
   "cell_type": "code",
   "source": [
    "\n",
    "\n",
    "\n",
    "val url = \"jdbc:postgresql://localhost:5431/langchain\"\n",
    "val username = \"user\"\n",
    "val password = \"password\"\n",
    "\n",
    "val dbConfig = DatabaseConfiguration(url, username, password)\n",
    "\n",
    "val tableName = \"italianfood\"\n",
    "\n",
    "val df = DataFrame.readSqlTable(dbConfig, tableName, 100)\n",
    "\n"
   ],
   "outputs": [],
   "execution_count": 39
  },
  {
   "metadata": {
    "ExecuteTime": {
     "end_time": "2024-08-19T11:54:29.116451Z",
     "start_time": "2024-08-19T11:54:28.839711Z"
    }
   },
   "cell_type": "code",
   "source": [
    "val referenceVector = Arrays.toString(embeddingModel.embed(\"Dessert with Berries, Cream and Chocolate\").content().vector())\n",
    "val query = \"\"\"SELECT * from (WITH temp AS (SELECT (2 - (embedding <=> '%s')) / 2 AS score, embedding_id, embedding, text, metadata FROM %s) SELECT * FROM temp WHERE score >= %s ORDER BY score desc LIMIT %s) as result\"\"\".format(\n",
    "    referenceVector, \"italianfood\", 0.6, 7\n",
    ")\n",
    "\n",
    "DataFrame.readSqlQuery(dbConfig, query).select(\"text\", \"score\").print(valueLimit = 100)\n",
    "\n"
   ],
   "outputs": [
    {
     "name": "stdout",
     "output_type": "stream",
     "text": [
      "                                                                                                   text    score\n",
      " 0  Brownies Desserts [Dark chocolate, Eggs, Blanched whole hazelnuts, Butter, Flour, Sugar, Fine salt] 0,819836\n",
      " 1 Cream tart Desserts [Flour, Almond flour, Butter, Eggs, Sugar, Fresh liquid cream, Mascarpone, Po... 0,818885\n",
      " 2           Pastry Cream Desserts [Whole milk, Sugar, Egg yolks, Rice starch, Vanilla pod, Lemon zest] 0,797090\n",
      " 3   Nutella cheesecake Desserts [Digestive biscuits, Butter, Nutella, Cream cheese, Hazelnut granules] 0,793000\n",
      " 4 Chocolate Profiteroles Desserts [Water, Whole Milk, Butter, Fine Salt, Sugar, Flour, Eggs, Egg Yo... 0,789423\n",
      " 5                                          Biscuit dough Desserts [Eggs, Honey, Flour, Sugar, Vanilla] 0,784850\n",
      " 6 Chocolate Salami Desserts [Dark Chocolate, Butter, Dry Biscuits, Sugar, Rum, Unsweetened Cocoa Po... 0,783595\n",
      "\n"
     ]
    }
   ],
   "execution_count": 38
  },
  {
   "metadata": {
    "ExecuteTime": {
     "end_time": "2024-08-19T11:57:12.343044Z",
     "start_time": "2024-08-19T11:57:12.033607Z"
    }
   },
   "cell_type": "code",
   "source": "",
   "outputs": [
    {
     "name": "stdout",
     "output_type": "stream",
     "text": [
      "{Index=[[0, 1, 2, 3, 4]], Vector1=[[1, 2, 3, 4, 5]], Vector2=[[5, 4, 3, 2, 1]], Color1=[[red, blue, green, yellow, purple]], Color2=[[red, blue, green, yellow, purple]]}\n"
     ]
    },
    {
     "data": {
      "text/html": [
       "   <div id=\"PfgdlN\"></div>\n",
       "   <script type=\"text/javascript\" data-lets-plot-script=\"plot\">\n",
       "       (function() {\n",
       "           var plotSpec={\n",
       "\"__error_message\":\"Can't convert to color: 'Color1' (String)\"\n",
       "};\n",
       "           var plotContainer = document.getElementById(\"PfgdlN\");\n",
       "           window.letsPlotCall(function() {{\n",
       "               LetsPlot.buildPlotFromProcessedSpecs(plotSpec, -1, -1, plotContainer);\n",
       "           }});\n",
       "       })();\n",
       "   </script>"
      ]
     },
     "execution_count": 7,
     "metadata": {},
     "output_type": "execute_result"
    }
   ],
   "execution_count": 7
  },
  {
   "metadata": {
    "ExecuteTime": {
     "end_time": "2024-08-19T12:11:42.862274Z",
     "start_time": "2024-08-19T12:11:42.599185Z"
    }
   },
   "cell_type": "code",
   "source": [
    "import kotlin.math.sqrt\n",
    "\n",
    "// Sample dataset\n",
    "val data = listOf(\n",
    "    Pair(1.0, 1.0),\n",
    "    Pair(2.0, 2.0),\n",
    "    Pair(3.0, 3.0),\n",
    "    Pair(4.0, 4.0),\n",
    "    Pair(5.0, 5.0)\n",
    ")\n",
    "\n",
    "// Function to calculate Euclidean distance\n",
    "fun euclideanDistance(p1: Pair<Double, Double>, p2: Pair<Double, Double>): Double {\n",
    "    return sqrt((p1.first - p2.first).pow(2) + (p1.second - p2.second).pow(2))\n",
    "}\n",
    "\n",
    "// Function to find k-nearest neighbors\n",
    "fun kNearestNeighbors(data: List<Pair<Double, Double>>, point: Pair<Double, Double>, k: Int): List<Pair<Double, Double>> {\n",
    "    return data.sortedBy { euclideanDistance(it, point) }.take(k)\n",
    "}\n",
    "\n",
    "// Define the point to find neighbors for\n",
    "val point = Pair(3.5, 3.5)\n",
    "val k = 3\n",
    "\n",
    "// Find k-nearest neighbors\n",
    "val neighbors = kNearestNeighbors(data, point, k)\n",
    "\n",
    "// Create a DataFrame for the dataset\n",
    "val df = dataFrameOf(\"x\", \"y\")(\n",
    "    data.map { it.first },\n",
    "    data.map { it.second }\n",
    ")\n",
    "\n",
    "// Create a DataFrame for the neighbors\n",
    "val neighborsDf = dataFrameOf(\"x\", \"y\")(\n",
    "    neighbors.map { it.first },\n",
    "    neighbors.map { it.second }\n",
    ")\n",
    "\n",
    "// Plot the dataset and the neighbors\n",
    "val plot = letsPlot(df.toMap()) +\n",
    "        geomPoint(color = \"blue\", size = 3.0) { x = \"x\"; y = \"y\" } +\n",
    "        geomPoint(data = neighborsDf.toMap(), color = \"red\", size = 5.0) { x = \"x\"; y = \"y\" } +\n",
    "        geomPoint(data = mapOf(\"x\" to listOf(point.first), \"y\" to listOf(point.second)), color = \"green\", size = 5.0) { x = \"x\"; y = \"y\" }\n",
    "\n",
    "plot"
   ],
   "outputs": [
    {
     "data": {
      "text/html": [
       "   <div id=\"AAmogD\"></div>\n",
       "   <script type=\"text/javascript\" data-lets-plot-script=\"plot\">\n",
       "       (function() {\n",
       "           var plotSpec={\n",
       "\"mapping\":{\n",
       "},\n",
       "\"data\":{\n",
       "\"x\":[[1.0,2.0,3.0,4.0,5.0]],\n",
       "\"y\":[[1.0,2.0,3.0,4.0,5.0]]\n",
       "},\n",
       "\"kind\":\"plot\",\n",
       "\"scales\":[],\n",
       "\"layers\":[{\n",
       "\"mapping\":{\n",
       "\"x\":\"x\",\n",
       "\"y\":\"y\"\n",
       "},\n",
       "\"stat\":\"identity\",\n",
       "\"color\":\"blue\",\n",
       "\"size\":3.0,\n",
       "\"position\":\"identity\",\n",
       "\"geom\":\"point\",\n",
       "\"data\":{\n",
       "}\n",
       "},{\n",
       "\"mapping\":{\n",
       "\"x\":\"x\",\n",
       "\"y\":\"y\"\n",
       "},\n",
       "\"stat\":\"identity\",\n",
       "\"data\":{\n",
       "\"x\":[[3.0,4.0,2.0]],\n",
       "\"y\":[[3.0,4.0,2.0]]\n",
       "},\n",
       "\"color\":\"red\",\n",
       "\"size\":5.0,\n",
       "\"position\":\"identity\",\n",
       "\"geom\":\"point\"\n",
       "},{\n",
       "\"mapping\":{\n",
       "\"x\":\"x\",\n",
       "\"y\":\"y\"\n",
       "},\n",
       "\"stat\":\"identity\",\n",
       "\"data\":{\n",
       "\"x\":[3.5],\n",
       "\"y\":[3.5]\n",
       "},\n",
       "\"color\":\"green\",\n",
       "\"size\":5.0,\n",
       "\"position\":\"identity\",\n",
       "\"geom\":\"point\"\n",
       "}]\n",
       "};\n",
       "           var plotContainer = document.getElementById(\"AAmogD\");\n",
       "           window.letsPlotCall(function() {{\n",
       "               LetsPlot.buildPlotFromProcessedSpecs(plotSpec, -1, -1, plotContainer);\n",
       "           }});\n",
       "       })();\n",
       "   </script>"
      ]
     },
     "execution_count": 20,
     "metadata": {},
     "output_type": "execute_result"
    }
   ],
   "execution_count": 20
  }
 ],
 "metadata": {
  "kernelspec": {
   "display_name": "Kotlin",
   "language": "kotlin",
   "name": "kotlin"
  },
  "language_info": {
   "name": "kotlin",
   "version": "1.9.23",
   "mimetype": "text/x-kotlin",
   "file_extension": ".kt",
   "pygments_lexer": "kotlin",
   "codemirror_mode": "text/x-kotlin",
   "nbconvert_exporter": ""
  },
  "ktnbPluginMetadata": {
   "projectDependencies": [
    "langchain4j.main",
    "langchain4j.test"
   ]
  }
 },
 "nbformat": 4,
 "nbformat_minor": 0
}
