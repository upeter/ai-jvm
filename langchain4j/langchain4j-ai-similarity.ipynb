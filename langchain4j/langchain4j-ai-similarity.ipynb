{
 "cells": [
  {
   "metadata": {},
   "cell_type": "markdown",
   "source": [
    "### Similarity with LangChain4j\n",
    "<img src=\"https://docs.langchain4j.dev/img/logo.svg\" alt=\"LangChain4J\" width=\"200\" height=\"200\">"
   ]
  },
  {
   "cell_type": "code",
   "metadata": {
    "collapsed": true
   },
   "source": [
    "%use dataframe\n",
    "%useLatestDescriptors\n",
    "import dev.example.food.*\n",
    "import dev.langchain4j.model.*\n",
    "import dev.langchain4j.model.embedding.*\n",
    "import dev.langchain4j.data.embedding.*\n",
    "import dev.langchain4j.store.embedding.*\n",
    "import dev.langchain4j.model.embedding.onnx.allminilml6v2.*\n",
    "import org.jetbrains.kotlinx.dataframe.api.dataFrameOf\n",
    "\n"
   ],
   "outputs": [],
   "execution_count": null
  },
  {
   "metadata": {},
   "cell_type": "markdown",
   "source": "### Embeddings"
  },
  {
   "metadata": {},
   "cell_type": "code",
   "source": [
    "import dev.langchain4j.model.embedding.onnx.bgesmallzhv15q.BgeSmallZhV15QuantizedEmbeddingModel\n",
    "val embeddingModel: EmbeddingModel =   BgeSmallZhV15QuantizedEmbeddingModel()\n"
   ],
   "outputs": [],
   "execution_count": null
  },
  {
   "metadata": {},
   "cell_type": "code",
   "source": [
    "val response = embeddingModel.embed(\"kingdom\")\n",
    "val embedding:Embedding = response.content()\n",
    "embedding.dimension()\n",
    "//response.tokenUsage()"
   ],
   "outputs": [],
   "execution_count": null
  },
  {
   "metadata": {},
   "cell_type": "markdown",
   "source": "### Consine Similarity"
  },
  {
   "metadata": {},
   "cell_type": "code",
   "source": [
    "val embeddingModel = AllMiniLmL6V2EmbeddingModel()\n",
    "infix fun String.similarityTo(text: String): Double {\n",
    "    val inputOne: Embedding = embeddingModel.embed(this).content()\n",
    "    val inputTwo: Embedding = embeddingModel.embed(text).content()\n",
    "    return CosineSimilarity.between(inputOne, inputTwo)\n",
    "}\n"
   ],
   "outputs": [],
   "execution_count": null
  },
  {
   "metadata": {},
   "cell_type": "code",
   "source": [
    "\n",
    "\"king\".similarityTo(\"monarch\")"
   ],
   "outputs": [],
   "execution_count": null
  },
  {
   "metadata": {},
   "cell_type": "code",
   "source": "\"the king is in the capital\".similarityTo(\"the king is on the city\")\n",
   "outputs": [],
   "execution_count": null
  },
  {
   "metadata": {},
   "cell_type": "markdown",
   "source": "### Similarity Search"
  },
  {
   "metadata": {},
   "cell_type": "code",
   "source": [
    "\n",
    "val url = \"jdbc:postgresql://localhost:5431/langchain\"\n",
    "val username = \"user\"\n",
    "val password = \"password\"\n",
    "\n",
    "val dbConfig = DatabaseConfiguration(url, username, password)\n",
    "\n",
    "val tableName = \"italianfood\"\n",
    "\n",
    "val df = DataFrame.readSqlTable(dbConfig, tableName, 100)\n",
    "\n"
   ],
   "outputs": [],
   "execution_count": null
  },
  {
   "metadata": {},
   "cell_type": "code",
   "source": [
    "val referenceVector = java.util.Arrays.toString(embeddingModel.embed(\"Dessert with Berries, Cream and Chocolate\").content().vector())\n",
    "val query = \"\"\"SELECT * from (WITH temp AS (SELECT (2 - (embedding <=> '%s')) / 2 AS score, embedding_id, embedding, text, metadata FROM %s) SELECT * FROM temp WHERE score >= %s ORDER BY score desc LIMIT %s) as result\"\"\".format(\n",
    "    referenceVector, \"italianfood\", 0.6, 7\n",
    ")\n",
    "\n",
    "DataFrame.readSqlQuery(dbConfig, query).select(\"text\", \"score\").print(valueLimit = 100)\n",
    "\n"
   ],
   "outputs": [],
   "execution_count": null
  },
  {
   "metadata": {},
   "cell_type": "code",
   "source": "",
   "outputs": [],
   "execution_count": null
  },
  {
   "metadata": {},
   "cell_type": "code",
   "source": [
    "import kotlin.math.sqrt\n",
    "//https://kindgeek.com/blog/post/experiments-with-langchain4j-or-java-way-to-llm-powered-applications\n",
    "\n",
    "// Sample dataset\n",
    "val data = listOf(\n",
    "    Pair(1.0, 1.0),\n",
    "    Pair(2.0, 2.0),\n",
    "    Pair(3.0, 3.0),\n",
    "    Pair(4.0, 4.0),\n",
    "    Pair(5.0, 5.0)\n",
    ")\n",
    "\n",
    "// Function to calculate Euclidean distance\n",
    "fun euclideanDistance(p1: Pair<Double, Double>, p2: Pair<Double, Double>): Double {\n",
    "    return sqrt((p1.first - p2.first).pow(2) + (p1.second - p2.second).pow(2))\n",
    "}\n",
    "\n",
    "// Function to find k-nearest neighbors\n",
    "fun kNearestNeighbors(data: List<Pair<Double, Double>>, point: Pair<Double, Double>, k: Int): List<Pair<Double, Double>> {\n",
    "    return data.sortedBy { euclideanDistance(it, point) }.take(k)\n",
    "}\n",
    "\n",
    "// Define the point to find neighbors for\n",
    "val point = Pair(3.5, 3.5)\n",
    "val k = 3\n",
    "\n",
    "// Find k-nearest neighbors\n",
    "val neighbors = kNearestNeighbors(data, point, k)\n",
    "\n",
    "// Create a DataFrame for the dataset\n",
    "val df = dataFrameOf(\"x\", \"y\")(\n",
    "    data.map { it.first },\n",
    "    data.map { it.second }\n",
    ")\n",
    "\n",
    "// Create a DataFrame for the neighbors\n",
    "val neighborsDf = dataFrameOf(\"x\", \"y\")(\n",
    "    neighbors.map { it.first },\n",
    "    neighbors.map { it.second }\n",
    ")\n",
    "\n",
    "// Plot the dataset and the neighbors\n",
    "val plot = letsPlot(df.toMap()) +\n",
    "        geomPoint(color = \"blue\", size = 3.0) { x = \"x\"; y = \"y\" } +\n",
    "        geomPoint(data = neighborsDf.toMap(), color = \"red\", size = 5.0) { x = \"x\"; y = \"y\" } +\n",
    "        geomPoint(data = mapOf(\"x\" to listOf(point.first), \"y\" to listOf(point.second)), color = \"green\", size = 5.0) { x = \"x\"; y = \"y\" }\n",
    "\n",
    "plot"
   ],
   "outputs": [],
   "execution_count": null
  }
 ],
 "metadata": {
  "kernelspec": {
   "display_name": "Kotlin",
   "language": "kotlin",
   "name": "kotlin"
  },
  "language_info": {
   "name": "kotlin",
   "version": "1.9.23",
   "mimetype": "text/x-kotlin",
   "file_extension": ".kt",
   "pygments_lexer": "kotlin",
   "codemirror_mode": "text/x-kotlin",
   "nbconvert_exporter": ""
  },
  "ktnbPluginMetadata": {
   "projectDependencies": [
    "langchain4j.main",
    "langchain4j.test"
   ]
  }
 },
 "nbformat": 4,
 "nbformat_minor": 0
}
