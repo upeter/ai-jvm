{
 "cells": [
  {
   "metadata": {},
   "cell_type": "markdown",
   "source": [
    "### Similarity with LangChain4j\n",
    "<img src=\"https://docs.langchain4j.dev/img/logo.svg\" alt=\"LangChain4J\" width=\"200\" height=\"200\">"
   ]
  },
  {
   "cell_type": "code",
   "metadata": {
    "collapsed": true
   },
   "source": [
    "%use dataframe\n",
    "%useLatestDescriptors\n",
    "import dev.example.food.*\n",
    "import dev.langchain4j.model.*\n",
    "import dev.langchain4j.model.embedding.*\n",
    "import dev.langchain4j.data.embedding.*\n",
    "import dev.langchain4j.store.embedding.*\n",
    "import dev.langchain4j.model.embedding.onnx.allminilml6v2.*\n",
    "import org.jetbrains.kotlinx.dataframe.api.dataFrameOf\n",
    "\n"
   ],
   "outputs": [],
   "execution_count": null
  },
  {
   "metadata": {},
   "cell_type": "markdown",
   "source": "### Embeddings"
  },
  {
   "metadata": {},
   "cell_type": "code",
   "source": [
    "import dev.langchain4j.model.embedding.onnx.bgesmallzhv15q.BgeSmallZhV15QuantizedEmbeddingModel\n",
    "val embeddingModel: EmbeddingModel =   BgeSmallZhV15QuantizedEmbeddingModel()\n"
   ],
   "outputs": [],
   "execution_count": null
  },
  {
   "metadata": {},
   "cell_type": "code",
   "source": [
    "val response = embeddingModel.embed(\"kingdom\")\n",
    "val embedding:Embedding = response.content()\n",
    "embedding.dimension()\n"
   ],
   "outputs": [],
   "execution_count": null
  },
  {
   "metadata": {},
   "cell_type": "code",
   "source": "embedding.vector()",
   "outputs": [],
   "execution_count": null
  },
  {
   "metadata": {},
   "cell_type": "code",
   "source": "response.tokenUsage() //-> king, ##dom ",
   "outputs": [],
   "execution_count": null
  },
  {
   "metadata": {},
   "cell_type": "code",
   "source": "",
   "outputs": [],
   "execution_count": null
  },
  {
   "metadata": {},
   "cell_type": "markdown",
   "source": [
    "### Similarity between Vectors\n",
    "#### Consine Similarity, Euclidean Distance, Manhattan Distance etc."
   ]
  },
  {
   "metadata": {},
   "cell_type": "code",
   "source": [
    "val embeddingModel = AllMiniLmL6V2EmbeddingModel()\n",
    "infix fun String.similarityTo(text: String): Double {\n",
    "    val inputOne: Embedding = embeddingModel.embed(this).content()\n",
    "    val inputTwo: Embedding = embeddingModel.embed(text).content()\n",
    "    return CosineSimilarity.between(inputOne, inputTwo)\n",
    "}\n"
   ],
   "outputs": [],
   "execution_count": null
  },
  {
   "metadata": {},
   "cell_type": "code",
   "source": [
    "\n",
    "\"king\".similarityTo(\"dog\")"
   ],
   "outputs": [],
   "execution_count": null
  },
  {
   "metadata": {},
   "cell_type": "code",
   "source": "\"the king is in the capital\".similarityTo(\"the prince is on the city\")\n",
   "outputs": [],
   "execution_count": null
  },
  {
   "metadata": {},
   "cell_type": "code",
   "source": "",
   "outputs": [],
   "execution_count": null
  },
  {
   "metadata": {},
   "cell_type": "markdown",
   "source": ""
  }
 ],
 "metadata": {
  "kernelspec": {
   "display_name": "Kotlin",
   "language": "kotlin",
   "name": "kotlin"
  },
  "language_info": {
   "name": "kotlin",
   "version": "1.9.23",
   "mimetype": "text/x-kotlin",
   "file_extension": ".kt",
   "pygments_lexer": "kotlin",
   "codemirror_mode": "text/x-kotlin",
   "nbconvert_exporter": ""
  },
  "ktnbPluginMetadata": {
   "projectDependencies": [
    "langchain4j.main",
    "langchain4j.test"
   ]
  }
 },
 "nbformat": 4,
 "nbformat_minor": 0
}
