{
 "cells": [
  {
   "metadata": {
    "collapsed": true
   },
   "cell_type": "code",
   "source": [
    "import kotlinx.coroutines.runBlocking\n",
    "import org.springframework.web.client.RestTemplate\n",
    "import org.springframework.web.reactive.function.client.WebClient\n",
    "import org.springframework.web.reactive.function.client.awaitBody\n",
    "import org.springframework.web.reactive.function.client.bodyToFlow\n",
    "import java.net.URI\n",
    "\n",
    "fun GET(url: String): String = runBlocking {\n",
    "    val client = WebClient.builder().build().get()\n",
    "        .uri(URI(url.replace(\" \", \"%20\")))\n",
    "        .retrieve()\n",
    "    if (url.contains(\"/ask/stream\"))\n",
    "        client.bodyToFlow<String>()\n",
    "            .collect {\n",
    "                println(it)\n",
    "            }.let { \"\" } else client.awaitBody()\n",
    "}\n",
    "\n",
    "\n",
    "\n"
   ],
   "outputs": [],
   "execution_count": null
  },
  {
   "metadata": {},
   "cell_type": "markdown",
   "source": [
    "### Basic Examples with LangChain4J\n",
    "<img src=\"https://docs.langchain4j.dev/img/logo.svg\" alt=\"LangChain4J\" width=\"200\" height=\"200\">"
   ]
  },
  {
   "metadata": {
    "ExecuteTime": {
     "end_time": "2025-03-30T14:43:13.122520Z",
     "start_time": "2025-03-30T14:43:09.422092Z"
    }
   },
   "cell_type": "code",
   "source": "GET(url = \"http://localhost:8082/ai/ask/stream?message=Voxxed Days Amsterdam\")",
   "outputs": [
    {
     "name": "stdout",
     "output_type": "stream",
     "text": [
      "Voxxed Days Amsterdam is part of the Voxxed Days series of developer conferences, which are organized in various cities around the world. These events are designed to bring together developers, software engineers, and tech enthusiasts to share knowledge, learn about new technologies, and network with peers. The conferences typically feature a range of sessions, including keynotes, technical talks, workshops, and hands-on labs, covering a wide array of topics such as programming languages, software development methodologies, cloud computing, big data, artificial intelligence, and more.\n",
      "\n",
      "Voxxed Days Amsterdam is known for its diverse lineup of speakers, both local and international, who are experts in their respective fields. The event provides an opportunity for attendees to stay up-to-date with the latest industry trends and best practices, discover new tools and technologies, and gain insights from real-world case studies.\n",
      "\n",
      "If you're interested in attending or learning more about Voxxed Days Amsterdam, you can visit their official website for information on upcoming events, speakers, schedules, and ticketing details.\n"
     ]
    },
    {
     "data": {
      "text/plain": []
     },
     "execution_count": 31,
     "metadata": {},
     "output_type": "execute_result"
    }
   ],
   "execution_count": 31
  }
 ],
 "metadata": {
  "kernelspec": {
   "display_name": "Kotlin",
   "language": "kotlin",
   "name": "kotlin"
  },
  "language_info": {
   "name": "kotlin",
   "version": "1.9.23",
   "mimetype": "text/x-kotlin",
   "file_extension": ".kt",
   "pygments_lexer": "kotlin",
   "codemirror_mode": "text/x-kotlin",
   "nbconvert_exporter": ""
  },
  "ktnbPluginMetadata": {
   "projectLibraries": false,
   "projectDependencies": [
    "langchain4j.main"
   ]
  }
 },
 "nbformat": 4,
 "nbformat_minor": 0
}
