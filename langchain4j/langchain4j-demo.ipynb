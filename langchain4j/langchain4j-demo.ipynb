{
 "cells": [
  {
   "metadata": {
    "collapsed": true
   },
   "cell_type": "code",
   "source": [
    "import kotlinx.coroutines.runBlocking\n",
    "import org.springframework.web.client.RestTemplate\n",
    "import org.springframework.web.reactive.function.client.WebClient\n",
    "import org.springframework.web.reactive.function.client.awaitBody\n",
    "import org.springframework.web.reactive.function.client.bodyToFlow\n",
    "import java.net.URI\n",
    "\n",
    "fun GET(url: String): String = runBlocking {\n",
    "    val client = WebClient.builder().build().get()\n",
    "        .uri(URI(url.replace(\" \", \"%20\")))\n",
    "        .retrieve()\n",
    "    if (url.contains(\"/ask/stream\"))\n",
    "        client.bodyToFlow<String>()\n",
    "            .collect {\n",
    "                println(it)\n",
    "            }.let { \"\" } else client.awaitBody()\n",
    "}\n",
    "\n",
    "\n",
    "\n"
   ],
   "outputs": [],
   "execution_count": null
  },
  {
   "metadata": {},
   "cell_type": "markdown",
   "source": [
    "### Basic Examples with LangChain4J\n",
    "<img src=\"https://docs.langchain4j.dev/img/logo.svg\" alt=\"LangChain4J\" width=\"200\" height=\"200\">"
   ]
  },
  {
   "metadata": {},
   "cell_type": "code",
   "source": "GET(url = \"http://localhost:8082/ai/ask?message=Best Kotlin Conference in the world\")",
   "outputs": [],
   "execution_count": null
  }
 ],
 "metadata": {
  "kernelspec": {
   "display_name": "Kotlin",
   "language": "kotlin",
   "name": "kotlin"
  },
  "language_info": {
   "name": "kotlin",
   "version": "1.9.23",
   "mimetype": "text/x-kotlin",
   "file_extension": ".kt",
   "pygments_lexer": "kotlin",
   "codemirror_mode": "text/x-kotlin",
   "nbconvert_exporter": ""
  },
  "ktnbPluginMetadata": {
   "projectLibraries": false,
   "projectDependencies": [
    "langchain4j.main"
   ]
  }
 },
 "nbformat": 4,
 "nbformat_minor": 0
}
