{
 "cells": [
  {
   "cell_type": "code",
   "metadata": {
    "collapsed": true
   },
   "source": [
    "import kotlinx.coroutines.runBlocking\n",
    "import org.springframework.web.client.RestTemplate\n",
    "import org.springframework.web.reactive.function.client.WebClient\n",
    "import org.springframework.web.reactive.function.client.bodyToFlow\n",
    "import java.net.URI\n",
    "\n",
    "val webClient = WebClient.builder().build()\n",
    "fun String.get():Unit = runBlocking {\n",
    "    webClient.get()\n",
    "        .uri(URI(this@get.replace(\" \", \"%20\")))\n",
    "        .retrieve()\n",
    "        .bodyToFlow<String>()\n",
    "        .collect { println(it) }\n",
    "}\n"
   ],
   "outputs": [],
   "execution_count": null
  },
  {
   "metadata": {},
   "cell_type": "markdown",
   "source": [
    "### Basic Examples with LangChain4J\n",
    "<img src=\"https://docs.langchain4j.dev/img/logo.svg\" alt=\"LangChain4J\" width=\"200\" height=\"200\">"
   ]
  },
  {
   "metadata": {},
   "cell_type": "code",
   "source": "\"http://localhost:8082/ai/stream?message=Coolest Java Conference in the Netherlands\".get()",
   "outputs": [],
   "execution_count": null
  }
 ],
 "metadata": {
  "kernelspec": {
   "display_name": "Kotlin",
   "language": "kotlin",
   "name": "kotlin"
  },
  "language_info": {
   "name": "kotlin",
   "version": "1.9.23",
   "mimetype": "text/x-kotlin",
   "file_extension": ".kt",
   "pygments_lexer": "kotlin",
   "codemirror_mode": "text/x-kotlin",
   "nbconvert_exporter": ""
  }
 },
 "nbformat": 4,
 "nbformat_minor": 0
}
