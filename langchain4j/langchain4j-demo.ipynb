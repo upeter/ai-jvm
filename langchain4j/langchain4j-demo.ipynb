{
 "cells": [
  {
   "cell_type": "code",
   "metadata": {
    "collapsed": true
   },
   "source": [
    "import kotlinx.coroutines.runBlocking\n",
    "import org.springframework.web.client.RestTemplate\n",
    "import org.springframework.web.reactive.function.client.WebClient\n",
    "import org.springframework.web.reactive.function.client.bodyToFlow\n",
    "import java.net.URI\n",
    "\n",
    "val webClient = WebClient.builder().build()\n",
    "fun String.get():Unit = runBlocking {\n",
    "    webClient.get()\n",
    "        .uri(URI(this@get.replace(\" \", \"%20\")))\n",
    "        .retrieve()\n",
    "        .bodyToFlow<String>()\n",
    "        .collect { println(it) }\n",
    "}\n"
   ],
   "outputs": [],
   "execution_count": null
  },
  {
   "metadata": {},
   "cell_type": "markdown",
   "source": [
    "### Basic Examples with LangChain4J\n",
    "<img src=\"https://docs.langchain4j.dev/img/logo.svg\" alt=\"LangChain4J\" width=\"200\" height=\"200\">"
   ]
  },
  {
   "metadata": {
    "ExecuteTime": {
     "end_time": "2024-11-04T11:42:23.282738Z",
     "start_time": "2024-11-04T11:42:21.087973Z"
    }
   },
   "cell_type": "code",
   "source": "\"http://localhost:8082/ai/stream?message=Coolest Java Conference in the Netherlands\".get()",
   "outputs": [
    {
     "name": "stdout",
     "output_type": "stream",
     "text": [
      "One of the coolest Java conferences in the Netherlands is **J-Fall**, which is organized by the Dutch Java User Group (NLJUG). J-Fall typically features a variety of sessions, workshops, and talks focused on Java and related technologies, presented by both local and international speakers. It attracts a diverse audience of developers, architects, and technology enthusiasts.\n",
      "\n",
      "Another notable conference is **J-Spring**, which also focuses on Java and offers a platform for networking and knowledge sharing among Java professionals.\n",
      "\n",
      "Both events usually have a vibrant atmosphere, showcasing the latest trends, tools, and best practices in the Java ecosystem. If you're looking for a great opportunity to learn and connect with fellow Java developers, these conferences are definitely worth considering!\n"
     ]
    }
   ],
   "execution_count": 13
  }
 ],
 "metadata": {
  "kernelspec": {
   "display_name": "Kotlin",
   "language": "kotlin",
   "name": "kotlin"
  },
  "language_info": {
   "name": "kotlin",
   "version": "1.9.23",
   "mimetype": "text/x-kotlin",
   "file_extension": ".kt",
   "pygments_lexer": "kotlin",
   "codemirror_mode": "text/x-kotlin",
   "nbconvert_exporter": ""
  }
 },
 "nbformat": 4,
 "nbformat_minor": 0
}
