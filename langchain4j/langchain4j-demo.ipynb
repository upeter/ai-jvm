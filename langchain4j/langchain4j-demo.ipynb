{
 "cells": [
  {
   "metadata": {
    "collapsed": true,
    "ExecuteTime": {
     "end_time": "2025-05-26T11:22:17.693691Z",
     "start_time": "2025-05-26T11:22:17.274429Z"
    }
   },
   "cell_type": "code",
   "source": [
    "import kotlinx.coroutines.runBlocking\n",
    "import org.springframework.web.client.RestTemplate\n",
    "import org.springframework.web.reactive.function.client.WebClient\n",
    "import org.springframework.web.reactive.function.client.awaitBody\n",
    "import org.springframework.web.reactive.function.client.bodyToFlow\n",
    "import java.net.URI\n",
    "\n",
    "fun GET(url: String): String = runBlocking {\n",
    "    val client = WebClient.builder().build().get()\n",
    "        .uri(URI(url.replace(\" \", \"%20\")))\n",
    "        .retrieve()\n",
    "    if (url.contains(\"/ask/stream\"))\n",
    "        client.bodyToFlow<String>()\n",
    "            .collect {\n",
    "                println(it)\n",
    "            }.let { \"\" } else client.awaitBody()\n",
    "}\n",
    "\n",
    "\n",
    "\n"
   ],
   "outputs": [],
   "execution_count": 1
  },
  {
   "metadata": {},
   "cell_type": "markdown",
   "source": [
    "### Basic Examples with LangChain4J\n",
    "<img src=\"https://docs.langchain4j.dev/img/logo.svg\" alt=\"LangChain4J\" width=\"200\" height=\"200\">"
   ]
  },
  {
   "metadata": {},
   "cell_type": "code",
   "outputs": [],
   "execution_count": null,
   "source": "GET(url = \"http://localhost:8082/ai/ask?message=Best Kotlin Conference in the world\")"
  },
  {
   "metadata": {
    "ExecuteTime": {
     "end_time": "2025-05-26T11:35:07.117877Z",
     "start_time": "2025-05-26T11:35:05.174829Z"
    }
   },
   "cell_type": "code",
   "source": "GET(url = \"http://localhost:8082/ai/ask/stream?message=Would you go to KotlinDevDay in Amsterdam if you like Kotlin?\")",
   "outputs": [
    {
     "name": "stdout",
     "output_type": "stream",
     "text": [
      "If you're a fan of Kotlin and have the opportunity, attending KotlinDevDay in Amsterdam could be a great experience. Events like this offer the chance to learn from experts, attend workshops, and network with other Kotlin enthusiasts and professionals. Additionally, you can stay updated on the latest Kotlin developments and best practices. If these aspects align with your interests and goals, it would likely be an enjoyable and rewarding event to attend.If you're a fan of Kotlin and have the opportunity, attending KotlinDevDay in Amsterdam could be a great experience. Events like this offer the chance to learn from experts, attend workshops, and network with other Kotlin enthusiasts and professionals. Additionally, you can stay updated on the latest Kotlin developments and best practices. If these aspects align with your interests and goals, it would likely be an enjoyable and rewarding event to attend.\n"
     ]
    },
    {
     "data": {
      "text/plain": []
     },
     "execution_count": 6,
     "metadata": {},
     "output_type": "execute_result"
    }
   ],
   "execution_count": 6
  }
 ],
 "metadata": {
  "kernelspec": {
   "display_name": "Kotlin",
   "language": "kotlin",
   "name": "kotlin"
  },
  "language_info": {
   "name": "kotlin",
   "version": "1.9.23",
   "mimetype": "text/x-kotlin",
   "file_extension": ".kt",
   "pygments_lexer": "kotlin",
   "codemirror_mode": "text/x-kotlin",
   "nbconvert_exporter": ""
  },
  "ktnbPluginMetadata": {
   "projectLibraries": false,
   "projectDependencies": [
    "langchain4j.main"
   ]
  }
 },
 "nbformat": 4,
 "nbformat_minor": 0
}
