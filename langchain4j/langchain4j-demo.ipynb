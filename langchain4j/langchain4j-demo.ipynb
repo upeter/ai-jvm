{
 "cells": [
  {
   "metadata": {
    "collapsed": true
   },
   "cell_type": "code",
   "source": [
    "import kotlinx.coroutines.runBlocking\n",
    "import org.springframework.web.client.RestTemplate\n",
    "import org.springframework.web.reactive.function.client.WebClient\n",
    "import org.springframework.web.reactive.function.client.awaitBody\n",
    "import org.springframework.web.reactive.function.client.bodyToFlow\n",
    "import java.net.URI\n",
    "\n",
    "fun GET(url: String): String = runBlocking {\n",
    "    val client = WebClient.builder().build().get()\n",
    "        .uri(URI(url.replace(\" \", \"%20\")))\n",
    "        .retrieve()\n",
    "    if (url.contains(\"/ask/stream\"))\n",
    "        client.bodyToFlow<String>()\n",
    "            .collect {\n",
    "                println(it)\n",
    "            }.let { \"\" } else client.awaitBody()\n",
    "}\n",
    "\n",
    "\n",
    "\n"
   ],
   "outputs": [],
   "execution_count": null
  },
  {
   "metadata": {},
   "cell_type": "markdown",
   "source": [
    "### Basic Examples with LangChain4J\n",
    "<img src=\"https://docs.langchain4j.dev/img/logo.svg\" alt=\"LangChain4J\" width=\"200\" height=\"200\">"
   ]
  },
  {
   "metadata": {
    "ExecuteTime": {
     "end_time": "2025-06-16T08:42:01.599957Z",
     "start_time": "2025-06-16T08:41:56.285023Z"
    }
   },
   "cell_type": "code",
   "source": "GET(url = \"http://localhost:8082/ai/ask/stream?message=Is Kotlin frequently used in Dutch financial institutions?\")\n",
   "outputs": [
    {
     "name": "stdout",
     "output_type": "stream",
     "text": [
      "Kotlin has gained popularity in various sectors, including financial institutions globally, due to its modern features, interoperability with Java, and improved developer productivity. While I'm not privy to specific practices in Dutch financial institutions, it's reasonable to assume that some may have adopted Kotlin, especially if they are already using Java, given Kotlin's seamless integration with existing Java codebases.\n",
      "\n",
      "Financial institutions often prioritize stability, scalability, and security, all of which Kotlin can support. Moreover, with the growing trend of mobile banking and Android app development, Kotlin's status as an official language for Android development bolsters its appeal.\n",
      "\n",
      "If you're considering using Kotlin in a Dutch financial institution or looking to understand its prevalence, it might be valuable to reach out to peers or industry groups like NLJUG (Netherlands Java User Group) or to check conference talks and publications for more local insights.\n"
     ]
    },
    {
     "data": {
      "text/plain": []
     },
     "execution_count": 29,
     "metadata": {},
     "output_type": "execute_result"
    }
   ],
   "execution_count": 29
  }
 ],
 "metadata": {
  "kernelspec": {
   "display_name": "Kotlin",
   "language": "kotlin",
   "name": "kotlin"
  },
  "language_info": {
   "name": "kotlin",
   "version": "1.9.23",
   "mimetype": "text/x-kotlin",
   "file_extension": ".kt",
   "pygments_lexer": "kotlin",
   "codemirror_mode": "text/x-kotlin",
   "nbconvert_exporter": ""
  },
  "ktnbPluginMetadata": {
   "projectLibraries": false,
   "projectDependencies": [
    "langchain4j.main"
   ]
  }
 },
 "nbformat": 4,
 "nbformat_minor": 0
}
