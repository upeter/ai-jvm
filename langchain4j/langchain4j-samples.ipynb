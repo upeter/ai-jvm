{
 "cells": [
  {
   "cell_type": "code",
   "metadata": {
    "collapsed": true,
    "ExecuteTime": {
     "end_time": "2024-09-30T12:34:39.417362Z",
     "start_time": "2024-09-30T12:34:39.183053Z"
    }
   },
   "source": [
    "import org.springframework.web.client.RestTemplate\n",
    "import org.springframework.web.reactive.function.client.WebClient\n",
    "\n",
    "val restTemplate = RestTemplate()\n",
    "val webClient = WebClient.builder().build()\n",
    "val url = \"http://localhost:8082/ai/stream?message\""
   ],
   "outputs": [],
   "execution_count": 10
  },
  {
   "metadata": {
    "ExecuteTime": {
     "end_time": "2024-09-30T12:27:28.848691Z",
     "start_time": "2024-09-30T12:27:27.692883Z"
    }
   },
   "cell_type": "code",
   "source": [
    "import org.springframework.web.client.getForEntity\n",
    "\n",
    "restTemplate.getForEntity<String>(\"$url=How is the weather today?\").body"
   ],
   "outputs": [
    {
     "data": {
      "text/plain": [
       "I'm unable to provide real-time weather updates. To find out the current weather, please check a reliable weather website or app for the latest information in your area."
      ]
     },
     "execution_count": 7,
     "metadata": {},
     "output_type": "execute_result"
    }
   ],
   "execution_count": 7
  },
  {
   "metadata": {
    "ExecuteTime": {
     "end_time": "2024-09-30T16:01:07.752344Z",
     "start_time": "2024-09-30T16:01:06.497413Z"
    }
   },
   "cell_type": "code",
   "source": [
    "import kotlinx.coroutines.runBlocking\n",
    "import org.springframework.web.reactive.function.client.bodyToFlow\n",
    "\n",
    "runBlocking {\n",
    "    webClient.get()\n",
    "        .uri(\"$url=How is the weather today?\")\n",
    "        .retrieve()\n",
    "        .bodyToFlow<String>()\n",
    "        .collect{print(it)}\n",
    "}"
   ],
   "outputs": [
    {
     "name": "stdout",
     "output_type": "stream",
     "text": [
      "I'm sorry, but I don't have real-time data access to check the current weather. You can check a weather website or app for the most accurate and up-to-date information. If you have any other questions or need assistance, feel free to ask!"
     ]
    }
   ],
   "execution_count": 19
  }
 ],
 "metadata": {
  "kernelspec": {
   "display_name": "Kotlin",
   "language": "kotlin",
   "name": "kotlin"
  },
  "language_info": {
   "name": "kotlin",
   "version": "1.9.23",
   "mimetype": "text/x-kotlin",
   "file_extension": ".kt",
   "pygments_lexer": "kotlin",
   "codemirror_mode": "text/x-kotlin",
   "nbconvert_exporter": ""
  }
 },
 "nbformat": 4,
 "nbformat_minor": 0
}
