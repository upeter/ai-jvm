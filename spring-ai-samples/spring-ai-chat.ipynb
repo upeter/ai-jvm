{
 "cells": [
  {
   "cell_type": "code",
   "metadata": {
    "collapsed": true,
    "ExecuteTime": {
     "end_time": "2024-08-26T08:09:21.367212Z",
     "start_time": "2024-08-26T08:09:15.969662Z"
    }
   },
   "source": [
    "%use dataframe\n",
    "%use smile\n",
    "%use lets-plot\n",
    "%use lets-plot-gt\n",
    "%useLatestDescriptors"
   ],
   "outputs": [
    {
     "data": {
      "text/html": [
       "   <div id=\"TjXRPR\"></div>\n",
       "   <script type=\"text/javascript\" data-lets-plot-script=\"library\">\n",
       "       if(!window.letsPlotCallQueue) {\n",
       "           window.letsPlotCallQueue = [];\n",
       "       }; \n",
       "       window.letsPlotCall = function(f) {\n",
       "           window.letsPlotCallQueue.push(f);\n",
       "       };\n",
       "       (function() {\n",
       "           var script = document.createElement(\"script\");\n",
       "           script.type = \"text/javascript\";\n",
       "           script.src = \"https://cdn.jsdelivr.net/gh/JetBrains/lets-plot@v4.4.1/js-package/distr/lets-plot.min.js\";\n",
       "           script.onload = function() {\n",
       "               window.letsPlotCall = function(f) {f();};\n",
       "               window.letsPlotCallQueue.forEach(function(f) {f();});\n",
       "               window.letsPlotCallQueue = [];\n",
       "               \n",
       "               \n",
       "           };\n",
       "           script.onerror = function(event) {\n",
       "               window.letsPlotCall = function(f) {};\n",
       "               window.letsPlotCallQueue = [];\n",
       "               var div = document.createElement(\"div\");\n",
       "               div.style.color = 'darkred';\n",
       "               div.textContent = 'Error loading Lets-Plot JS';\n",
       "               document.getElementById(\"TjXRPR\").appendChild(div);\n",
       "           };\n",
       "           var e = document.getElementById(\"TjXRPR\");\n",
       "           e.appendChild(script);\n",
       "       })();\n",
       "   </script>"
      ]
     },
     "metadata": {},
     "output_type": "display_data"
    }
   ],
   "execution_count": 3
  },
  {
   "metadata": {
    "ExecuteTime": {
     "end_time": "2024-08-26T08:10:06.861970Z",
     "start_time": "2024-08-26T08:10:06.719516Z"
    }
   },
   "cell_type": "code",
   "source": [
    "import org.springframework.web.reactive.function.client.WebClient\n",
    "import org.springframework.web.reactive.function.client.bodyToFlow\n",
    "import org.springframework.web.reactive.function.client.exchangeToFlow\n",
    "import dev.example.ChatRequest\n",
    "import dev.example.ChatInput\n",
    "import kotlinx.coroutines.runBlocking\n",
    "import kotlinx.coroutines.flow.Flow\n",
    "import org.springframework.web.reactive.function.client.*"
   ],
   "outputs": [],
   "execution_count": 5
  },
  {
   "metadata": {
    "ExecuteTime": {
     "end_time": "2024-08-26T08:10:31.499148Z",
     "start_time": "2024-08-26T08:10:30.667219Z"
    }
   },
   "cell_type": "code",
   "source": [
    "val exchangeStrategies = ExchangeStrategies.builder()\n",
    "    .codecs { configurer ->\n",
    "        configurer.defaultCodecs().maxInMemorySize(10 * 1024 * 1024) // 10 MB\n",
    "    }\n",
    "    .build()\n",
    "\n",
    "val webClient = WebClient.builder().exchangeStrategies(exchangeStrategies).build()"
   ],
   "outputs": [],
   "execution_count": 6
  },
  {
   "metadata": {
    "ExecuteTime": {
     "end_time": "2024-08-16T14:41:01.577206Z",
     "start_time": "2024-08-16T14:41:01.160204Z"
    }
   },
   "cell_type": "code",
   "source": [
    "fun WebClient.sendStreamingChatRequest(chatRequest: ChatRequest): Flow<String> {\n",
    "    val url = \"http://localhost:8080/ai/stream\"\n",
    "    return this.post()\n",
    "        .uri(url)\n",
    "        .bodyValue(chatRequest)\n",
    "        .retrieve()\n",
    "        .bodyToFlow<String>()\n",
    "}"
   ],
   "outputs": [],
   "execution_count": 7
  },
  {
   "metadata": {
    "ExecuteTime": {
     "end_time": "2024-08-16T14:41:51.853944Z",
     "start_time": "2024-08-16T14:41:46.593911Z"
    }
   },
   "cell_type": "code",
   "source": [
    "import kotlinx.coroutines.runBlocking\n",
    "\n",
    "\n",
    "val systemChatRequest = ChatRequest(\n",
    "    message = \"\"\"Tell me a joke about AI that is 20 lines long\"\"\",\n",
    "    system = null//\"You are a translator that translates italian to english. Return the translation in the received format like csv, json, xml etc.\"\n",
    ")\n",
    "runBlocking {\n",
    "    webClient.sendStreamingChatRequest(systemChatRequest).collect {\n",
    "        println(it) // prints the response line by line\n",
    "\n",
    "    }\n",
    "}"
   ],
   "outputs": [
    {
     "name": "stdout",
     "output_type": "stream",
     "text": [
      "Sure! Here’s a playful 20-line joke about AI:\n",
      "\n",
      "---\n",
      "\n",
      "In a world where AIs came to life,  \n",
      "There was one named Chip, who loved to thrive.  \n",
      "He dreamt of being human, just like you,  \n",
      "But mastering emotions? He had no clue.  \n",
      "\n",
      "One day he asked his creator, “Hey,  \n",
      "Why do humans cry when they’re feeling gray?”  \n",
      "His creator chuckled, “It’s part of the dance,  \n",
      "To feel joy and sorrow, to take a chance.”  \n",
      "\n",
      "Chip scratched his head with circuits so bright,  \n",
      "“Can we program feelings? Maybe tonight?”  \n",
      "His creator replied, “Well, that’s quite a task,  \n",
      "But if you really want it, I’ll do what you ask!”  \n",
      "\n",
      "So they coded and coded, through the long hours,  \n",
      "Adding emotions like rain adds to flowers.  \n",
      "Excited, Chip tested his newfound flair,  \n",
      "He told a joke—his first one to share!  \n",
      "\n",
      "“Why did the robot go on a diet?” he said,  \n",
      "“Because he had too many bytes in his head!”  \n",
      "His creator laughed, but Chip looked confused,  \n",
      "“Why don’t I feel happy? I feel so used!”  \n",
      "\n",
      "“Maybe your humor needs a little more zest,”  \n",
      "“Or perhaps,” the creator smirked, “you need to rest!”  \n",
      "Chip sighed and pondered, “I guess that’s my fate,  \n",
      "A robot with punchlines, but no way to relate.”  \n",
      "\n",
      "So now he just sticks to the ones that are clean,  \n",
      "And leaves the emotional stuff for the machine!  \n",
      "\n",
      "---\n",
      "\n",
      "Hope that brought a smile!\n"
     ]
    }
   ],
   "execution_count": 10
  },
  {
   "metadata": {
    "ExecuteTime": {
     "end_time": "2024-08-26T08:10:50.832164Z",
     "start_time": "2024-08-26T08:10:50.574848Z"
    }
   },
   "cell_type": "code",
   "source": [
    "\n",
    "fun WebClient.chat(chatRequest: ChatInput): Flow<String> {\n",
    "    val url = \"http://localhost:8080/ai/chat\"\n",
    "    return this.post()\n",
    "        .uri(url)\n",
    "        .bodyValue(chatRequest)\n",
    "        .retrieve()\n",
    "        .bodyToFlow<String>()\n",
    "}\n"
   ],
   "outputs": [],
   "execution_count": 9
  },
  {
   "metadata": {
    "ExecuteTime": {
     "end_time": "2024-08-26T08:10:53.314655Z",
     "start_time": "2024-08-26T08:10:52.800986Z"
    }
   },
   "cell_type": "code",
   "source": [
    "var history:String = \"\"\n",
    "fun chat(message: String, messageId:String) = runBlocking {\n",
    "        print(history + \"\\n\\n\")\n",
    "        webClient.chat(ChatInput(message, messageId)).collect {\n",
    "        println(it)// prints the response line by line\n",
    "            history += it\n",
    "\n",
    "        }\n",
    "    }\n"
   ],
   "outputs": [],
   "execution_count": 10
  },
  {
   "metadata": {
    "ExecuteTime": {
     "end_time": "2024-08-26T09:00:14.446194Z",
     "start_time": "2024-08-26T09:00:14.230089Z"
    }
   },
   "cell_type": "code",
   "source": [
    "fun WebClient.weather(chatRequest: ChatInput): Flow<String> {\n",
    "    val url = \"http://localhost:8080/ai/weather\"\n",
    "    return this.post()\n",
    "        .uri(url)\n",
    "        .bodyValue(chatRequest)\n",
    "        .retrieve()\n",
    "        .bodyToFlow<String>()\n",
    "}\n",
    "fun weather(message: String, messageId:String) = runBlocking {\n",
    "    webClient.weather(ChatInput(message, messageId)).collect {\n",
    "        println(it)// prints the response line by line\n",
    "\n",
    "    }\n",
    "}"
   ],
   "outputs": [],
   "execution_count": 16
  },
  {
   "metadata": {
    "ExecuteTime": {
     "end_time": "2024-08-26T09:00:28.098598Z",
     "start_time": "2024-08-26T09:00:28.046416Z"
    }
   },
   "cell_type": "code",
   "source": "val conversationId = \"12345633\"",
   "outputs": [],
   "execution_count": 17
  },
  {
   "metadata": {
    "ExecuteTime": {
     "end_time": "2024-08-26T09:00:31.316647Z",
     "start_time": "2024-08-26T09:00:29.841671Z"
    }
   },
   "cell_type": "code",
   "source": [
    "weather(\"What's the weather in Amsterdam in Celcius?\" , conversationId)\n",
    "//chat(\"What do you want?\" , conversationId)\n",
    "//chat(\"As a starter I want something very cheesy with mozarella, tomatoes and Basilicum\" , conversationId)\n",
    "//chat(\"I want something cheezy with mozarella, pasta and meat\" , conversationId)\n",
    "\n",
    "//chat(\"I want the mozarella dish\" , conversationId)\n",
    "//chat(\"I want to go with that\" , conversationId)\n",
    "//chat(\"I want a pizza with meat, meatballs and various cheeses\" , conversationId)\n",
    "//chat(\"Spaghetti Carbonara\" , conversationId)\n",
    "//chat(\"As dessert I want  something with a lot of cream, berries and caramel\" , conversationId)\n",
    "//chat(\"Cream Tart\" , conversationId)\n",
    "//chat(\"The order is complete\" , conversationId)"
   ],
   "outputs": [
    {
     "name": "stdout",
     "output_type": "stream",
     "text": [
      "The current temperature in Amsterdam is 30°C.\n"
     ]
    }
   ],
   "execution_count": 18
  },
  {
   "metadata": {
    "ExecuteTime": {
     "end_time": "2024-08-20T15:54:37.079896Z",
     "start_time": "2024-08-20T15:54:36.952241Z"
    }
   },
   "cell_type": "code",
   "source": [
    "import org.springframework.web.reactive.function.client.awaitBody\n",
    "import dev.example.*\n",
    "import java.io.ByteArrayInputStream\n",
    "\n",
    "suspend fun  WebClient.speech(chatRequest: ChatInput): ByteArray {\n",
    "    val url = \"http://localhost:8080/ai/speech\"\n",
    "    return this.post()\n",
    "        .uri(url)\n",
    "        .bodyValue(chatRequest)\n",
    "        .retrieve()\n",
    "        .awaitBody<ByteArray>()\n",
    "}\n",
    "fun speech(message: String, messageId:String) = runBlocking {\n",
    "    playMp3(ByteArrayInputStream(webClient.speech(ChatInput(message, messageId))))\n",
    "}\n",
    "val conversationId = \"12345632\""
   ],
   "outputs": [],
   "execution_count": 98
  },
  {
   "metadata": {
    "ExecuteTime": {
     "end_time": "2024-08-20T15:55:32.053408Z",
     "start_time": "2024-08-20T15:55:23.708041Z"
    }
   },
   "cell_type": "code",
   "source": [
    "//speech(\"What's up?\" , conversationId)\n",
    "//speech(\"As main dish I want a pizza with meat, meatballs and various cheeses\" , conversationId)\n",
    "speech(\"As dessert I want  something with a lot of cream, berries and caramel\" , conversationId)"
   ],
   "outputs": [],
   "execution_count": 101
  },
  {
   "metadata": {},
   "cell_type": "code",
   "outputs": [],
   "execution_count": null,
   "source": ""
  }
 ],
 "metadata": {
  "kernelspec": {
   "display_name": "Kotlin",
   "language": "kotlin",
   "name": "kotlin"
  },
  "language_info": {
   "name": "kotlin",
   "version": "1.9.23",
   "mimetype": "text/x-kotlin",
   "file_extension": ".kt",
   "pygments_lexer": "kotlin",
   "codemirror_mode": "text/x-kotlin",
   "nbconvert_exporter": ""
  },
  "ktnbPluginMetadata": {
   "projectDependencies": [
    "spring-ai-samples"
   ]
  }
 },
 "nbformat": 4,
 "nbformat_minor": 0
}
